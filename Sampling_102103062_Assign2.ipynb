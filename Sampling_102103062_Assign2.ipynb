{
  "nbformat": 4,
  "nbformat_minor": 0,
  "metadata": {
    "colab": {
      "provenance": []
    },
    "kernelspec": {
      "name": "python3",
      "display_name": "Python 3"
    },
    "language_info": {
      "name": "python"
    }
  },
  "cells": [
    {
      "cell_type": "code",
      "source": [
        "pip install scipy"
      ],
      "metadata": {
        "colab": {
          "base_uri": "https://localhost:8080/"
        },
        "id": "e_14MkemdNjE",
        "outputId": "43c6871c-a7a9-422f-85dd-1acd72b37ed1"
      },
      "execution_count": 94,
      "outputs": [
        {
          "output_type": "stream",
          "name": "stdout",
          "text": [
            "Requirement already satisfied: scipy in /usr/local/lib/python3.10/dist-packages (1.11.4)\n",
            "Requirement already satisfied: numpy<1.28.0,>=1.21.6 in /usr/local/lib/python3.10/dist-packages (from scipy) (1.23.5)\n"
          ]
        }
      ]
    },
    {
      "cell_type": "code",
      "execution_count": 95,
      "metadata": {
        "id": "9Qe7EEa2YF8m"
      },
      "outputs": [],
      "source": [
        "import pandas as pd\n",
        "\n",
        "df = pd.read_csv('/content/Creditcard_data.csv')"
      ]
    },
    {
      "cell_type": "markdown",
      "source": [
        "Class is the output variable"
      ],
      "metadata": {
        "id": "C2onUJG1YtKj"
      }
    },
    {
      "cell_type": "code",
      "source": [
        "df['Class'].value_counts()"
      ],
      "metadata": {
        "colab": {
          "base_uri": "https://localhost:8080/"
        },
        "id": "fRyNMlKtYdZM",
        "outputId": "0d3ef5f0-9ebb-4e8a-9abf-22e0e5a65e65"
      },
      "execution_count": 96,
      "outputs": [
        {
          "output_type": "execute_result",
          "data": {
            "text/plain": [
              "0    763\n",
              "1      9\n",
              "Name: Class, dtype: int64"
            ]
          },
          "metadata": {},
          "execution_count": 96
        }
      ]
    },
    {
      "cell_type": "code",
      "source": [
        "#It is highly imbalanced we need to either oversample the class 1 or undersample the class 0\n",
        "#SMOTE helps with oversampling\n",
        "from sklearn.model_selection import train_test_split\n",
        "from imblearn.over_sampling import SMOTE\n",
        "\n",
        "X = df.drop('Class', axis=1)\n",
        "y = df['Class']\n",
        "\n",
        "# Balancing the dataset\n",
        "smote = SMOTE()\n",
        "X_balanced, y_balanced = smote.fit_resample(X, y)"
      ],
      "metadata": {
        "id": "hYv1GXc1Y2cC"
      },
      "execution_count": 97,
      "outputs": []
    },
    {
      "cell_type": "code",
      "source": [
        "mod_df = pd.concat([X_balanced,y_balanced])\n",
        "mod_df[-1]"
      ],
      "metadata": {
        "colab": {
          "base_uri": "https://localhost:8080/",
          "height": 444
        },
        "id": "07M1ARuKlFfa",
        "outputId": "b3601648-2e8d-4510-ebea-e494b3ab9331"
      },
      "execution_count": 98,
      "outputs": [
        {
          "output_type": "execute_result",
          "data": {
            "text/plain": [
              "      Time        V1        V2        V3        V4        V5        V6  \\\n",
              "0      0.0 -1.359807 -0.072781  2.536347  1.378155 -0.338321  0.462388   \n",
              "1      0.0  1.191857  0.266151  0.166480  0.448154  0.060018 -0.082361   \n",
              "2      1.0 -1.358354 -1.340163  1.773209  0.379780 -0.503198  1.800499   \n",
              "3      1.0 -0.966272 -0.185226  1.792993 -0.863291 -0.010309  1.247203   \n",
              "4      2.0 -1.158233  0.877737  1.548718  0.403034 -0.407193  0.095921   \n",
              "...    ...       ...       ...       ...       ...       ...       ...   \n",
              "1521   NaN       NaN       NaN       NaN       NaN       NaN       NaN   \n",
              "1522   NaN       NaN       NaN       NaN       NaN       NaN       NaN   \n",
              "1523   NaN       NaN       NaN       NaN       NaN       NaN       NaN   \n",
              "1524   NaN       NaN       NaN       NaN       NaN       NaN       NaN   \n",
              "1525   NaN       NaN       NaN       NaN       NaN       NaN       NaN   \n",
              "\n",
              "            V7        V8        V9  ...       V21       V22       V23  \\\n",
              "0     0.239599  0.098698  0.363787  ... -0.018307  0.277838 -0.110474   \n",
              "1    -0.078803  0.085102 -0.255425  ... -0.225775 -0.638672  0.101288   \n",
              "2     0.791461  0.247676 -1.514654  ...  0.247998  0.771679  0.909412   \n",
              "3     0.237609  0.377436 -1.387024  ... -0.108300  0.005274 -0.190321   \n",
              "4     0.592941 -0.270533  0.817739  ... -0.009431  0.798278 -0.137458   \n",
              "...        ...       ...       ...  ...       ...       ...       ...   \n",
              "1521       NaN       NaN       NaN  ...       NaN       NaN       NaN   \n",
              "1522       NaN       NaN       NaN  ...       NaN       NaN       NaN   \n",
              "1523       NaN       NaN       NaN  ...       NaN       NaN       NaN   \n",
              "1524       NaN       NaN       NaN  ...       NaN       NaN       NaN   \n",
              "1525       NaN       NaN       NaN  ...       NaN       NaN       NaN   \n",
              "\n",
              "           V24       V25       V26       V27       V28  Amount    0  \n",
              "0     0.066928  0.128539 -0.189115  0.133558 -0.021053  149.62  NaN  \n",
              "1    -0.339846  0.167170  0.125895 -0.008983  0.014724    2.69  NaN  \n",
              "2    -0.689281 -0.327642 -0.139097 -0.055353 -0.059752  378.66  NaN  \n",
              "3    -1.175575  0.647376 -0.221929  0.062723  0.061458  123.50  NaN  \n",
              "4     0.141267 -0.206010  0.502292  0.219422  0.215153   69.99  NaN  \n",
              "...        ...       ...       ...       ...       ...     ...  ...  \n",
              "1521       NaN       NaN       NaN       NaN       NaN     NaN  1.0  \n",
              "1522       NaN       NaN       NaN       NaN       NaN     NaN  1.0  \n",
              "1523       NaN       NaN       NaN       NaN       NaN     NaN  1.0  \n",
              "1524       NaN       NaN       NaN       NaN       NaN     NaN  1.0  \n",
              "1525       NaN       NaN       NaN       NaN       NaN     NaN  1.0  \n",
              "\n",
              "[3052 rows x 31 columns]"
            ],
            "text/html": [
              "\n",
              "  <div id=\"df-e1a99f0f-5b87-4230-af9b-0839dfb12732\" class=\"colab-df-container\">\n",
              "    <div>\n",
              "<style scoped>\n",
              "    .dataframe tbody tr th:only-of-type {\n",
              "        vertical-align: middle;\n",
              "    }\n",
              "\n",
              "    .dataframe tbody tr th {\n",
              "        vertical-align: top;\n",
              "    }\n",
              "\n",
              "    .dataframe thead th {\n",
              "        text-align: right;\n",
              "    }\n",
              "</style>\n",
              "<table border=\"1\" class=\"dataframe\">\n",
              "  <thead>\n",
              "    <tr style=\"text-align: right;\">\n",
              "      <th></th>\n",
              "      <th>Time</th>\n",
              "      <th>V1</th>\n",
              "      <th>V2</th>\n",
              "      <th>V3</th>\n",
              "      <th>V4</th>\n",
              "      <th>V5</th>\n",
              "      <th>V6</th>\n",
              "      <th>V7</th>\n",
              "      <th>V8</th>\n",
              "      <th>V9</th>\n",
              "      <th>...</th>\n",
              "      <th>V21</th>\n",
              "      <th>V22</th>\n",
              "      <th>V23</th>\n",
              "      <th>V24</th>\n",
              "      <th>V25</th>\n",
              "      <th>V26</th>\n",
              "      <th>V27</th>\n",
              "      <th>V28</th>\n",
              "      <th>Amount</th>\n",
              "      <th>0</th>\n",
              "    </tr>\n",
              "  </thead>\n",
              "  <tbody>\n",
              "    <tr>\n",
              "      <th>0</th>\n",
              "      <td>0.0</td>\n",
              "      <td>-1.359807</td>\n",
              "      <td>-0.072781</td>\n",
              "      <td>2.536347</td>\n",
              "      <td>1.378155</td>\n",
              "      <td>-0.338321</td>\n",
              "      <td>0.462388</td>\n",
              "      <td>0.239599</td>\n",
              "      <td>0.098698</td>\n",
              "      <td>0.363787</td>\n",
              "      <td>...</td>\n",
              "      <td>-0.018307</td>\n",
              "      <td>0.277838</td>\n",
              "      <td>-0.110474</td>\n",
              "      <td>0.066928</td>\n",
              "      <td>0.128539</td>\n",
              "      <td>-0.189115</td>\n",
              "      <td>0.133558</td>\n",
              "      <td>-0.021053</td>\n",
              "      <td>149.62</td>\n",
              "      <td>NaN</td>\n",
              "    </tr>\n",
              "    <tr>\n",
              "      <th>1</th>\n",
              "      <td>0.0</td>\n",
              "      <td>1.191857</td>\n",
              "      <td>0.266151</td>\n",
              "      <td>0.166480</td>\n",
              "      <td>0.448154</td>\n",
              "      <td>0.060018</td>\n",
              "      <td>-0.082361</td>\n",
              "      <td>-0.078803</td>\n",
              "      <td>0.085102</td>\n",
              "      <td>-0.255425</td>\n",
              "      <td>...</td>\n",
              "      <td>-0.225775</td>\n",
              "      <td>-0.638672</td>\n",
              "      <td>0.101288</td>\n",
              "      <td>-0.339846</td>\n",
              "      <td>0.167170</td>\n",
              "      <td>0.125895</td>\n",
              "      <td>-0.008983</td>\n",
              "      <td>0.014724</td>\n",
              "      <td>2.69</td>\n",
              "      <td>NaN</td>\n",
              "    </tr>\n",
              "    <tr>\n",
              "      <th>2</th>\n",
              "      <td>1.0</td>\n",
              "      <td>-1.358354</td>\n",
              "      <td>-1.340163</td>\n",
              "      <td>1.773209</td>\n",
              "      <td>0.379780</td>\n",
              "      <td>-0.503198</td>\n",
              "      <td>1.800499</td>\n",
              "      <td>0.791461</td>\n",
              "      <td>0.247676</td>\n",
              "      <td>-1.514654</td>\n",
              "      <td>...</td>\n",
              "      <td>0.247998</td>\n",
              "      <td>0.771679</td>\n",
              "      <td>0.909412</td>\n",
              "      <td>-0.689281</td>\n",
              "      <td>-0.327642</td>\n",
              "      <td>-0.139097</td>\n",
              "      <td>-0.055353</td>\n",
              "      <td>-0.059752</td>\n",
              "      <td>378.66</td>\n",
              "      <td>NaN</td>\n",
              "    </tr>\n",
              "    <tr>\n",
              "      <th>3</th>\n",
              "      <td>1.0</td>\n",
              "      <td>-0.966272</td>\n",
              "      <td>-0.185226</td>\n",
              "      <td>1.792993</td>\n",
              "      <td>-0.863291</td>\n",
              "      <td>-0.010309</td>\n",
              "      <td>1.247203</td>\n",
              "      <td>0.237609</td>\n",
              "      <td>0.377436</td>\n",
              "      <td>-1.387024</td>\n",
              "      <td>...</td>\n",
              "      <td>-0.108300</td>\n",
              "      <td>0.005274</td>\n",
              "      <td>-0.190321</td>\n",
              "      <td>-1.175575</td>\n",
              "      <td>0.647376</td>\n",
              "      <td>-0.221929</td>\n",
              "      <td>0.062723</td>\n",
              "      <td>0.061458</td>\n",
              "      <td>123.50</td>\n",
              "      <td>NaN</td>\n",
              "    </tr>\n",
              "    <tr>\n",
              "      <th>4</th>\n",
              "      <td>2.0</td>\n",
              "      <td>-1.158233</td>\n",
              "      <td>0.877737</td>\n",
              "      <td>1.548718</td>\n",
              "      <td>0.403034</td>\n",
              "      <td>-0.407193</td>\n",
              "      <td>0.095921</td>\n",
              "      <td>0.592941</td>\n",
              "      <td>-0.270533</td>\n",
              "      <td>0.817739</td>\n",
              "      <td>...</td>\n",
              "      <td>-0.009431</td>\n",
              "      <td>0.798278</td>\n",
              "      <td>-0.137458</td>\n",
              "      <td>0.141267</td>\n",
              "      <td>-0.206010</td>\n",
              "      <td>0.502292</td>\n",
              "      <td>0.219422</td>\n",
              "      <td>0.215153</td>\n",
              "      <td>69.99</td>\n",
              "      <td>NaN</td>\n",
              "    </tr>\n",
              "    <tr>\n",
              "      <th>...</th>\n",
              "      <td>...</td>\n",
              "      <td>...</td>\n",
              "      <td>...</td>\n",
              "      <td>...</td>\n",
              "      <td>...</td>\n",
              "      <td>...</td>\n",
              "      <td>...</td>\n",
              "      <td>...</td>\n",
              "      <td>...</td>\n",
              "      <td>...</td>\n",
              "      <td>...</td>\n",
              "      <td>...</td>\n",
              "      <td>...</td>\n",
              "      <td>...</td>\n",
              "      <td>...</td>\n",
              "      <td>...</td>\n",
              "      <td>...</td>\n",
              "      <td>...</td>\n",
              "      <td>...</td>\n",
              "      <td>...</td>\n",
              "      <td>...</td>\n",
              "    </tr>\n",
              "    <tr>\n",
              "      <th>1521</th>\n",
              "      <td>NaN</td>\n",
              "      <td>NaN</td>\n",
              "      <td>NaN</td>\n",
              "      <td>NaN</td>\n",
              "      <td>NaN</td>\n",
              "      <td>NaN</td>\n",
              "      <td>NaN</td>\n",
              "      <td>NaN</td>\n",
              "      <td>NaN</td>\n",
              "      <td>NaN</td>\n",
              "      <td>...</td>\n",
              "      <td>NaN</td>\n",
              "      <td>NaN</td>\n",
              "      <td>NaN</td>\n",
              "      <td>NaN</td>\n",
              "      <td>NaN</td>\n",
              "      <td>NaN</td>\n",
              "      <td>NaN</td>\n",
              "      <td>NaN</td>\n",
              "      <td>NaN</td>\n",
              "      <td>1.0</td>\n",
              "    </tr>\n",
              "    <tr>\n",
              "      <th>1522</th>\n",
              "      <td>NaN</td>\n",
              "      <td>NaN</td>\n",
              "      <td>NaN</td>\n",
              "      <td>NaN</td>\n",
              "      <td>NaN</td>\n",
              "      <td>NaN</td>\n",
              "      <td>NaN</td>\n",
              "      <td>NaN</td>\n",
              "      <td>NaN</td>\n",
              "      <td>NaN</td>\n",
              "      <td>...</td>\n",
              "      <td>NaN</td>\n",
              "      <td>NaN</td>\n",
              "      <td>NaN</td>\n",
              "      <td>NaN</td>\n",
              "      <td>NaN</td>\n",
              "      <td>NaN</td>\n",
              "      <td>NaN</td>\n",
              "      <td>NaN</td>\n",
              "      <td>NaN</td>\n",
              "      <td>1.0</td>\n",
              "    </tr>\n",
              "    <tr>\n",
              "      <th>1523</th>\n",
              "      <td>NaN</td>\n",
              "      <td>NaN</td>\n",
              "      <td>NaN</td>\n",
              "      <td>NaN</td>\n",
              "      <td>NaN</td>\n",
              "      <td>NaN</td>\n",
              "      <td>NaN</td>\n",
              "      <td>NaN</td>\n",
              "      <td>NaN</td>\n",
              "      <td>NaN</td>\n",
              "      <td>...</td>\n",
              "      <td>NaN</td>\n",
              "      <td>NaN</td>\n",
              "      <td>NaN</td>\n",
              "      <td>NaN</td>\n",
              "      <td>NaN</td>\n",
              "      <td>NaN</td>\n",
              "      <td>NaN</td>\n",
              "      <td>NaN</td>\n",
              "      <td>NaN</td>\n",
              "      <td>1.0</td>\n",
              "    </tr>\n",
              "    <tr>\n",
              "      <th>1524</th>\n",
              "      <td>NaN</td>\n",
              "      <td>NaN</td>\n",
              "      <td>NaN</td>\n",
              "      <td>NaN</td>\n",
              "      <td>NaN</td>\n",
              "      <td>NaN</td>\n",
              "      <td>NaN</td>\n",
              "      <td>NaN</td>\n",
              "      <td>NaN</td>\n",
              "      <td>NaN</td>\n",
              "      <td>...</td>\n",
              "      <td>NaN</td>\n",
              "      <td>NaN</td>\n",
              "      <td>NaN</td>\n",
              "      <td>NaN</td>\n",
              "      <td>NaN</td>\n",
              "      <td>NaN</td>\n",
              "      <td>NaN</td>\n",
              "      <td>NaN</td>\n",
              "      <td>NaN</td>\n",
              "      <td>1.0</td>\n",
              "    </tr>\n",
              "    <tr>\n",
              "      <th>1525</th>\n",
              "      <td>NaN</td>\n",
              "      <td>NaN</td>\n",
              "      <td>NaN</td>\n",
              "      <td>NaN</td>\n",
              "      <td>NaN</td>\n",
              "      <td>NaN</td>\n",
              "      <td>NaN</td>\n",
              "      <td>NaN</td>\n",
              "      <td>NaN</td>\n",
              "      <td>NaN</td>\n",
              "      <td>...</td>\n",
              "      <td>NaN</td>\n",
              "      <td>NaN</td>\n",
              "      <td>NaN</td>\n",
              "      <td>NaN</td>\n",
              "      <td>NaN</td>\n",
              "      <td>NaN</td>\n",
              "      <td>NaN</td>\n",
              "      <td>NaN</td>\n",
              "      <td>NaN</td>\n",
              "      <td>1.0</td>\n",
              "    </tr>\n",
              "  </tbody>\n",
              "</table>\n",
              "<p>3052 rows × 31 columns</p>\n",
              "</div>\n",
              "    <div class=\"colab-df-buttons\">\n",
              "\n",
              "  <div class=\"colab-df-container\">\n",
              "    <button class=\"colab-df-convert\" onclick=\"convertToInteractive('df-e1a99f0f-5b87-4230-af9b-0839dfb12732')\"\n",
              "            title=\"Convert this dataframe to an interactive table.\"\n",
              "            style=\"display:none;\">\n",
              "\n",
              "  <svg xmlns=\"http://www.w3.org/2000/svg\" height=\"24px\" viewBox=\"0 -960 960 960\">\n",
              "    <path d=\"M120-120v-720h720v720H120Zm60-500h600v-160H180v160Zm220 220h160v-160H400v160Zm0 220h160v-160H400v160ZM180-400h160v-160H180v160Zm440 0h160v-160H620v160ZM180-180h160v-160H180v160Zm440 0h160v-160H620v160Z\"/>\n",
              "  </svg>\n",
              "    </button>\n",
              "\n",
              "  <style>\n",
              "    .colab-df-container {\n",
              "      display:flex;\n",
              "      gap: 12px;\n",
              "    }\n",
              "\n",
              "    .colab-df-convert {\n",
              "      background-color: #E8F0FE;\n",
              "      border: none;\n",
              "      border-radius: 50%;\n",
              "      cursor: pointer;\n",
              "      display: none;\n",
              "      fill: #1967D2;\n",
              "      height: 32px;\n",
              "      padding: 0 0 0 0;\n",
              "      width: 32px;\n",
              "    }\n",
              "\n",
              "    .colab-df-convert:hover {\n",
              "      background-color: #E2EBFA;\n",
              "      box-shadow: 0px 1px 2px rgba(60, 64, 67, 0.3), 0px 1px 3px 1px rgba(60, 64, 67, 0.15);\n",
              "      fill: #174EA6;\n",
              "    }\n",
              "\n",
              "    .colab-df-buttons div {\n",
              "      margin-bottom: 4px;\n",
              "    }\n",
              "\n",
              "    [theme=dark] .colab-df-convert {\n",
              "      background-color: #3B4455;\n",
              "      fill: #D2E3FC;\n",
              "    }\n",
              "\n",
              "    [theme=dark] .colab-df-convert:hover {\n",
              "      background-color: #434B5C;\n",
              "      box-shadow: 0px 1px 3px 1px rgba(0, 0, 0, 0.15);\n",
              "      filter: drop-shadow(0px 1px 2px rgba(0, 0, 0, 0.3));\n",
              "      fill: #FFFFFF;\n",
              "    }\n",
              "  </style>\n",
              "\n",
              "    <script>\n",
              "      const buttonEl =\n",
              "        document.querySelector('#df-e1a99f0f-5b87-4230-af9b-0839dfb12732 button.colab-df-convert');\n",
              "      buttonEl.style.display =\n",
              "        google.colab.kernel.accessAllowed ? 'block' : 'none';\n",
              "\n",
              "      async function convertToInteractive(key) {\n",
              "        const element = document.querySelector('#df-e1a99f0f-5b87-4230-af9b-0839dfb12732');\n",
              "        const dataTable =\n",
              "          await google.colab.kernel.invokeFunction('convertToInteractive',\n",
              "                                                    [key], {});\n",
              "        if (!dataTable) return;\n",
              "\n",
              "        const docLinkHtml = 'Like what you see? Visit the ' +\n",
              "          '<a target=\"_blank\" href=https://colab.research.google.com/notebooks/data_table.ipynb>data table notebook</a>'\n",
              "          + ' to learn more about interactive tables.';\n",
              "        element.innerHTML = '';\n",
              "        dataTable['output_type'] = 'display_data';\n",
              "        await google.colab.output.renderOutput(dataTable, element);\n",
              "        const docLink = document.createElement('div');\n",
              "        docLink.innerHTML = docLinkHtml;\n",
              "        element.appendChild(docLink);\n",
              "      }\n",
              "    </script>\n",
              "  </div>\n",
              "\n",
              "\n",
              "<div id=\"df-1544dacb-96ab-487d-a471-cf22e31a25d2\">\n",
              "  <button class=\"colab-df-quickchart\" onclick=\"quickchart('df-1544dacb-96ab-487d-a471-cf22e31a25d2')\"\n",
              "            title=\"Suggest charts\"\n",
              "            style=\"display:none;\">\n",
              "\n",
              "<svg xmlns=\"http://www.w3.org/2000/svg\" height=\"24px\"viewBox=\"0 0 24 24\"\n",
              "     width=\"24px\">\n",
              "    <g>\n",
              "        <path d=\"M19 3H5c-1.1 0-2 .9-2 2v14c0 1.1.9 2 2 2h14c1.1 0 2-.9 2-2V5c0-1.1-.9-2-2-2zM9 17H7v-7h2v7zm4 0h-2V7h2v10zm4 0h-2v-4h2v4z\"/>\n",
              "    </g>\n",
              "</svg>\n",
              "  </button>\n",
              "\n",
              "<style>\n",
              "  .colab-df-quickchart {\n",
              "      --bg-color: #E8F0FE;\n",
              "      --fill-color: #1967D2;\n",
              "      --hover-bg-color: #E2EBFA;\n",
              "      --hover-fill-color: #174EA6;\n",
              "      --disabled-fill-color: #AAA;\n",
              "      --disabled-bg-color: #DDD;\n",
              "  }\n",
              "\n",
              "  [theme=dark] .colab-df-quickchart {\n",
              "      --bg-color: #3B4455;\n",
              "      --fill-color: #D2E3FC;\n",
              "      --hover-bg-color: #434B5C;\n",
              "      --hover-fill-color: #FFFFFF;\n",
              "      --disabled-bg-color: #3B4455;\n",
              "      --disabled-fill-color: #666;\n",
              "  }\n",
              "\n",
              "  .colab-df-quickchart {\n",
              "    background-color: var(--bg-color);\n",
              "    border: none;\n",
              "    border-radius: 50%;\n",
              "    cursor: pointer;\n",
              "    display: none;\n",
              "    fill: var(--fill-color);\n",
              "    height: 32px;\n",
              "    padding: 0;\n",
              "    width: 32px;\n",
              "  }\n",
              "\n",
              "  .colab-df-quickchart:hover {\n",
              "    background-color: var(--hover-bg-color);\n",
              "    box-shadow: 0 1px 2px rgba(60, 64, 67, 0.3), 0 1px 3px 1px rgba(60, 64, 67, 0.15);\n",
              "    fill: var(--button-hover-fill-color);\n",
              "  }\n",
              "\n",
              "  .colab-df-quickchart-complete:disabled,\n",
              "  .colab-df-quickchart-complete:disabled:hover {\n",
              "    background-color: var(--disabled-bg-color);\n",
              "    fill: var(--disabled-fill-color);\n",
              "    box-shadow: none;\n",
              "  }\n",
              "\n",
              "  .colab-df-spinner {\n",
              "    border: 2px solid var(--fill-color);\n",
              "    border-color: transparent;\n",
              "    border-bottom-color: var(--fill-color);\n",
              "    animation:\n",
              "      spin 1s steps(1) infinite;\n",
              "  }\n",
              "\n",
              "  @keyframes spin {\n",
              "    0% {\n",
              "      border-color: transparent;\n",
              "      border-bottom-color: var(--fill-color);\n",
              "      border-left-color: var(--fill-color);\n",
              "    }\n",
              "    20% {\n",
              "      border-color: transparent;\n",
              "      border-left-color: var(--fill-color);\n",
              "      border-top-color: var(--fill-color);\n",
              "    }\n",
              "    30% {\n",
              "      border-color: transparent;\n",
              "      border-left-color: var(--fill-color);\n",
              "      border-top-color: var(--fill-color);\n",
              "      border-right-color: var(--fill-color);\n",
              "    }\n",
              "    40% {\n",
              "      border-color: transparent;\n",
              "      border-right-color: var(--fill-color);\n",
              "      border-top-color: var(--fill-color);\n",
              "    }\n",
              "    60% {\n",
              "      border-color: transparent;\n",
              "      border-right-color: var(--fill-color);\n",
              "    }\n",
              "    80% {\n",
              "      border-color: transparent;\n",
              "      border-right-color: var(--fill-color);\n",
              "      border-bottom-color: var(--fill-color);\n",
              "    }\n",
              "    90% {\n",
              "      border-color: transparent;\n",
              "      border-bottom-color: var(--fill-color);\n",
              "    }\n",
              "  }\n",
              "</style>\n",
              "\n",
              "  <script>\n",
              "    async function quickchart(key) {\n",
              "      const quickchartButtonEl =\n",
              "        document.querySelector('#' + key + ' button');\n",
              "      quickchartButtonEl.disabled = true;  // To prevent multiple clicks.\n",
              "      quickchartButtonEl.classList.add('colab-df-spinner');\n",
              "      try {\n",
              "        const charts = await google.colab.kernel.invokeFunction(\n",
              "            'suggestCharts', [key], {});\n",
              "      } catch (error) {\n",
              "        console.error('Error during call to suggestCharts:', error);\n",
              "      }\n",
              "      quickchartButtonEl.classList.remove('colab-df-spinner');\n",
              "      quickchartButtonEl.classList.add('colab-df-quickchart-complete');\n",
              "    }\n",
              "    (() => {\n",
              "      let quickchartButtonEl =\n",
              "        document.querySelector('#df-1544dacb-96ab-487d-a471-cf22e31a25d2 button');\n",
              "      quickchartButtonEl.style.display =\n",
              "        google.colab.kernel.accessAllowed ? 'block' : 'none';\n",
              "    })();\n",
              "  </script>\n",
              "</div>\n",
              "\n",
              "  <div id=\"id_1c47ace6-8110-4d6a-acba-77b64253b8c8\">\n",
              "    <style>\n",
              "      .colab-df-generate {\n",
              "        background-color: #E8F0FE;\n",
              "        border: none;\n",
              "        border-radius: 50%;\n",
              "        cursor: pointer;\n",
              "        display: none;\n",
              "        fill: #1967D2;\n",
              "        height: 32px;\n",
              "        padding: 0 0 0 0;\n",
              "        width: 32px;\n",
              "      }\n",
              "\n",
              "      .colab-df-generate:hover {\n",
              "        background-color: #E2EBFA;\n",
              "        box-shadow: 0px 1px 2px rgba(60, 64, 67, 0.3), 0px 1px 3px 1px rgba(60, 64, 67, 0.15);\n",
              "        fill: #174EA6;\n",
              "      }\n",
              "\n",
              "      [theme=dark] .colab-df-generate {\n",
              "        background-color: #3B4455;\n",
              "        fill: #D2E3FC;\n",
              "      }\n",
              "\n",
              "      [theme=dark] .colab-df-generate:hover {\n",
              "        background-color: #434B5C;\n",
              "        box-shadow: 0px 1px 3px 1px rgba(0, 0, 0, 0.15);\n",
              "        filter: drop-shadow(0px 1px 2px rgba(0, 0, 0, 0.3));\n",
              "        fill: #FFFFFF;\n",
              "      }\n",
              "    </style>\n",
              "    <button class=\"colab-df-generate\" onclick=\"generateWithVariable('mod_df')\"\n",
              "            title=\"Generate code using this dataframe.\"\n",
              "            style=\"display:none;\">\n",
              "\n",
              "  <svg xmlns=\"http://www.w3.org/2000/svg\" height=\"24px\"viewBox=\"0 0 24 24\"\n",
              "       width=\"24px\">\n",
              "    <path d=\"M7,19H8.4L18.45,9,17,7.55,7,17.6ZM5,21V16.75L18.45,3.32a2,2,0,0,1,2.83,0l1.4,1.43a1.91,1.91,0,0,1,.58,1.4,1.91,1.91,0,0,1-.58,1.4L9.25,21ZM18.45,9,17,7.55Zm-12,3A5.31,5.31,0,0,0,4.9,8.1,5.31,5.31,0,0,0,1,6.5,5.31,5.31,0,0,0,4.9,4.9,5.31,5.31,0,0,0,6.5,1,5.31,5.31,0,0,0,8.1,4.9,5.31,5.31,0,0,0,12,6.5,5.46,5.46,0,0,0,6.5,12Z\"/>\n",
              "  </svg>\n",
              "    </button>\n",
              "    <script>\n",
              "      (() => {\n",
              "      const buttonEl =\n",
              "        document.querySelector('#id_1c47ace6-8110-4d6a-acba-77b64253b8c8 button.colab-df-generate');\n",
              "      buttonEl.style.display =\n",
              "        google.colab.kernel.accessAllowed ? 'block' : 'none';\n",
              "\n",
              "      buttonEl.onclick = () => {\n",
              "        google.colab.notebook.generateWithVariable('mod_df');\n",
              "      }\n",
              "      })();\n",
              "    </script>\n",
              "  </div>\n",
              "\n",
              "    </div>\n",
              "  </div>\n"
            ]
          },
          "metadata": {},
          "execution_count": 98
        }
      ]
    },
    {
      "cell_type": "code",
      "source": [
        "new_size = len(y_balanced)\n",
        "y_balanced.value_counts()"
      ],
      "metadata": {
        "colab": {
          "base_uri": "https://localhost:8080/"
        },
        "id": "5rabun_WZPDi",
        "outputId": "a547b6b6-d739-4034-f3eb-7fd46b40ea6f"
      },
      "execution_count": 99,
      "outputs": [
        {
          "output_type": "execute_result",
          "data": {
            "text/plain": [
              "0    763\n",
              "1    763\n",
              "Name: Class, dtype: int64"
            ]
          },
          "metadata": {},
          "execution_count": 99
        }
      ]
    },
    {
      "cell_type": "code",
      "source": [
        "import scipy.stats as stats\n",
        "area = 0.95  # Replace this with your desired area\n",
        "\n",
        "# Calculate the corresponding Z-score (inverse cumulative distribution function)\n",
        "z_score = stats.norm.ppf(area)\n",
        "print(z_score**2)"
      ],
      "metadata": {
        "colab": {
          "base_uri": "https://localhost:8080/"
        },
        "id": "-as0lLwfdLtX",
        "outputId": "a9d663d6-9725-4b9d-ab4d-0549fc065196"
      },
      "execution_count": 100,
      "outputs": [
        {
          "output_type": "stream",
          "name": "stdout",
          "text": [
            "2.705543454095413\n"
          ]
        }
      ]
    },
    {
      "cell_type": "code",
      "source": [
        "# Now let us consider the 5 sampling techniques-\n",
        "# i) simple random sampling,\n",
        "#ii) systematic sampling,\n",
        "#iii) stratified sampling,\n",
        "#iv) bootstrap sampling\n",
        "#v) cross validation sampling\n",
        "\n",
        "# Now let us define the sampling sizes-\n",
        "\n",
        "def sample_size_simple_randomsampling(c=0.95,p=0.5,E=0.05)->int:\n",
        "  z = stats.norm.ppf(c)\n",
        "  z = z*z\n",
        "  denom = E\n",
        "  denom = denom*denom\n",
        "  return (z*p*(1-p))/denom\n",
        "\n",
        "def sample_size_stratified_randomsampling(S,c=0.95,p=0.5,E=0.05)->int:\n",
        "  z = stats.norm.ppf(c)\n",
        "  z = z*z\n",
        "  denom = E/S\n",
        "  denom = denom*denom\n",
        "  return (z*p*(1-p))/denom\n"
      ],
      "metadata": {
        "id": "HhOg5v0dZv4a"
      },
      "execution_count": 101,
      "outputs": []
    },
    {
      "cell_type": "code",
      "source": [
        "# We have 2 classes so we would require representations from both i.e. we have stratas as 2 and let clusters be 5.\n",
        "# We would keep other parameters such as confidence level and margin of error as default\n",
        "simple_random_sampling = int(sample_size_simple_randomsampling())\n",
        "# systematic_sampling size cant be determined beforehand\n",
        "stratified_random_sampling = int(sample_size_stratified_randomsampling(2,E=0.1))\n",
        "bootstrapsampling = simple_random_sampling\n",
        "cross_validation_sampling = clustersampling"
      ],
      "metadata": {
        "id": "Nb5m9hw5f38K"
      },
      "execution_count": 102,
      "outputs": []
    },
    {
      "cell_type": "markdown",
      "source": [
        "RANDOM SAMPLING"
      ],
      "metadata": {
        "id": "4GuJzr0WlN_p"
      }
    },
    {
      "cell_type": "code",
      "source": [
        "import random\n",
        "\n",
        "X_random_sample = X_balanced.sample(n=simple_random_sampling, random_state=42)\n",
        "y_random_sample = y_balanced.sample(n=simple_random_sampling, random_state=42)\n",
        "print(X_random_sample)"
      ],
      "metadata": {
        "colab": {
          "base_uri": "https://localhost:8080/"
        },
        "id": "Qs2FcQGukHcY",
        "outputId": "475aaaba-848a-4858-c6eb-1719f2551c36"
      },
      "execution_count": 134,
      "outputs": [
        {
          "output_type": "stream",
          "name": "stdout",
          "text": [
            "      Time        V1        V2        V3        V4        V5        V6  \\\n",
            "1439   157  0.252536  0.520611  0.429249  0.202581  0.641937  0.051176   \n",
            "76      49 -0.549626  0.418949  1.729833  0.203065 -0.187012  0.253878   \n",
            "1010   355 -0.363996  0.363059  1.322135  0.253314  0.725213 -0.683173   \n",
            "660    499  1.255439  0.307729  0.292700  0.699873 -0.428876 -1.088456   \n",
            "1132   534 -1.855505 -1.084522  1.758357  0.145210  1.608538  0.103652   \n",
            "...    ...       ...       ...       ...       ...       ...       ...   \n",
            "861    338  0.576790  0.471858  0.390279  0.359625  0.321134 -0.309077   \n",
            "610    460 -2.400261 -1.383754  1.610151 -2.452649 -0.592392 -0.041593   \n",
            "381    279 -0.365229  1.104352  1.290217  0.070321  0.043432 -0.985204   \n",
            "643    487  0.174857  2.035550 -1.866661  1.420853  0.829644 -1.683505   \n",
            "1157   531 -1.937315 -1.880253  2.158090  0.706265  2.089865  0.380338   \n",
            "\n",
            "            V7        V8        V9  ...       V20       V21       V22  \\\n",
            "1439  0.264564  0.087618 -0.099075  ... -0.049351 -0.152829 -0.450242   \n",
            "76    0.500894  0.251256 -0.227985  ...  0.016970  0.115062  0.418529   \n",
            "1010  0.624152 -0.092279 -0.172267  ... -0.105192 -0.011379  0.036563   \n",
            "660   0.043840 -0.167739  0.128854  ... -0.121156 -0.294795 -0.882126   \n",
            "1132 -0.792773  0.429704  0.440905  ...  0.278751  0.089123  0.427168   \n",
            "...        ...       ...       ...  ...       ...       ...       ...   \n",
            "861   0.210449 -0.009167 -0.064611  ... -0.056610 -0.195950 -0.568390   \n",
            "610  -0.554247  0.090479 -1.852860  ... -0.693537 -0.223480  0.484416   \n",
            "381   0.727144 -0.081310 -0.416811  ...  0.140779 -0.257011 -0.679352   \n",
            "643   1.014476 -0.303887  0.196620  ...  0.508856 -0.233184 -0.111163   \n",
            "1157 -1.535744  0.631966  0.732984  ...  0.471710  0.277109  0.860419   \n",
            "\n",
            "           V23       V24       V25       V26       V27       V28     Amount  \n",
            "1439  0.147537 -1.105824 -1.145843  0.078336  0.193089  0.199971   1.247629  \n",
            "76   -0.065133  0.264981  0.003958  0.395969  0.027182  0.043506  59.990000  \n",
            "1010 -0.162373  0.192409  0.331528 -0.299589 -0.079046 -0.088383   1.449689  \n",
            "660   0.136846  0.327949  0.194459  0.096516 -0.027271  0.029491   1.980000  \n",
            "1132 -0.012081 -0.514014 -0.283396  0.517337 -0.246718 -0.288724   1.223148  \n",
            "...        ...       ...       ...       ...       ...       ...        ...  \n",
            "861   0.141089 -0.638454 -0.704746  0.083478  0.123826  0.145500   1.117500  \n",
            "610   0.318866 -0.326228  0.587978 -0.126954  0.123830  0.485189  79.000000  \n",
            "381   0.001146  0.337299 -0.152681  0.071208  0.243797  0.099436   8.990000  \n",
            "643   0.093547  0.159321 -0.414132 -0.443439  0.409371 -0.042075   8.990000  \n",
            "1157  0.162701 -0.707505 -0.247260  0.711161 -0.177860 -0.222366   1.379282  \n",
            "\n",
            "[270 rows x 30 columns]\n"
          ]
        }
      ]
    },
    {
      "cell_type": "code",
      "source": [
        "import numpy as np\n",
        "\n",
        "# let k = 5\n",
        "length = 5\n",
        "\n",
        "start_index = np.random.randint(0, length)\n",
        "\n",
        "X_systematic_sample = X_balanced.iloc[start_index::length]\n",
        "y_systematic_sample = y_balanced.iloc[start_index::length]"
      ],
      "metadata": {
        "id": "ZjKMELxZl20P"
      },
      "execution_count": 111,
      "outputs": []
    },
    {
      "cell_type": "code",
      "source": [
        "# print(len(systematic_sample))"
      ],
      "metadata": {
        "colab": {
          "base_uri": "https://localhost:8080/"
        },
        "id": "M-a8unsUm4KY",
        "outputId": "26e2a589-13b4-4cff-ddd9-6e40486e48be"
      },
      "execution_count": 112,
      "outputs": [
        {
          "output_type": "stream",
          "name": "stdout",
          "text": [
            "610\n"
          ]
        }
      ]
    },
    {
      "cell_type": "markdown",
      "source": [
        "STRATIFIED SAMPLING"
      ],
      "metadata": {
        "id": "HO4Oz1isnol7"
      }
    },
    {
      "cell_type": "code",
      "source": [
        "from sklearn.model_selection import StratifiedShuffleSplit\n",
        "\n",
        "stratified_splitter = StratifiedShuffleSplit(n_splits=1, test_size=stratified_random_sampling, random_state=42)\n",
        "\n",
        "for train_index, test_index in stratified_splitter.split(X, y):\n",
        "    X_stratified_sample, y_stratified_sample = X_balanced.iloc[test_index], y_balanced.iloc[test_index]"
      ],
      "metadata": {
        "id": "qSwh0Lg1nnqw"
      },
      "execution_count": 110,
      "outputs": []
    },
    {
      "cell_type": "code",
      "source": [
        "X_stratified_sample"
      ],
      "metadata": {
        "colab": {
          "base_uri": "https://localhost:8080/",
          "height": 444
        },
        "id": "Z5VFhOWNB1_r",
        "outputId": "98062458-af2e-4a7f-a41a-4bffc45b4857"
      },
      "execution_count": 202,
      "outputs": [
        {
          "output_type": "execute_result",
          "data": {
            "text/plain": [
              "     Time        V1        V2        V3        V4        V5        V6  \\\n",
              "581   433 -0.599759  1.383107  2.381261  2.686183  0.317047  0.801453   \n",
              "457   335 -0.779988  1.395775  1.780828 -0.187325  0.953850 -0.511395   \n",
              "33     26 -0.529912  0.873892  1.347247  0.145457  0.414209  0.100223   \n",
              "652   493  1.219725 -0.481149 -0.324351 -1.552562 -0.258357 -0.519342   \n",
              "129    81  1.111048  0.215352  0.374073  1.150001 -0.329768 -0.898688   \n",
              "..    ...       ...       ...       ...       ...       ...       ...   \n",
              "405   292  1.252189 -0.126779  0.280285  0.579416 -0.374125 -0.215217   \n",
              "613   463 -0.386726  0.172565  0.732583 -1.434662  0.033065 -1.043657   \n",
              "570   427 -0.847312  0.854261  0.338816  0.890137  0.804751  1.165501   \n",
              "487   357 -0.711928  1.547423  1.799759  2.489060  0.450497  1.073762   \n",
              "333   244 -1.118946 -0.071366  2.807769  1.025675 -0.100748  0.508680   \n",
              "\n",
              "           V7        V8        V9  ...       V20       V21       V22  \\\n",
              "581  0.591630  0.000285 -1.259088  ...  0.415559 -0.268743 -0.388863   \n",
              "457  1.419480 -0.942652  0.412283  ...  0.650203 -0.303942 -0.059939   \n",
              "33   0.711206  0.176066 -0.286717  ... -0.290348  0.046949  0.208105   \n",
              "652 -0.035458 -0.117824  1.267125  ...  0.035718 -0.040428 -0.106938   \n",
              "129  0.309907 -0.255277 -0.110655  ...  0.031672 -0.132555 -0.493867   \n",
              "..        ...       ...       ...  ...       ...       ...       ...   \n",
              "405 -0.193078  0.011076  0.770448  ... -0.122255 -0.360296 -0.959573   \n",
              "613  0.720715 -0.150763  0.422942  ...  0.175251  0.143196  0.402446   \n",
              "570 -0.081408  0.879014 -0.394737  ...  0.081904 -0.046690 -0.075301   \n",
              "487  0.309374  0.450854 -1.560107  ...  0.356887 -0.115133 -0.136653   \n",
              "333  0.620313 -0.213137  0.333039  ...  0.101302 -0.045782  0.455553   \n",
              "\n",
              "          V23       V24       V25       V26       V27       V28  Amount  \n",
              "581 -0.273141  0.006995  0.144277  0.081082  0.041199 -0.081265    5.31  \n",
              "457 -0.547134 -0.216276  0.325048  0.290821 -0.529626 -0.668827    1.03  \n",
              "33  -0.185548  0.001031  0.098816 -0.552904 -0.073288  0.023307    6.14  \n",
              "652 -0.171758 -0.721597  0.525568  0.084212 -0.001621  0.011866   67.94  \n",
              "129 -0.010782  0.380389  0.456214 -0.572347  0.010981  0.039295   68.74  \n",
              "..        ...       ...       ...       ...       ...       ...     ...  \n",
              "405 -0.023837 -0.462201  0.381732  0.340518 -0.034929  0.007525   23.88  \n",
              "613 -0.020879  0.121543 -0.194311  0.114302  0.114048  0.135687   55.00  \n",
              "570 -0.308479 -1.733137  0.087036 -0.129209  0.294334  0.071198   11.36  \n",
              "487  0.052595 -0.327937 -0.531480  0.005533  0.515896  0.250372    0.75  \n",
              "333  0.170942  0.076211  0.197637 -0.286674 -0.230530 -0.405084  100.37  \n",
              "\n",
              "[270 rows x 30 columns]"
            ],
            "text/html": [
              "\n",
              "  <div id=\"df-4cf2a791-6eba-416c-ac68-1975c5e69993\" class=\"colab-df-container\">\n",
              "    <div>\n",
              "<style scoped>\n",
              "    .dataframe tbody tr th:only-of-type {\n",
              "        vertical-align: middle;\n",
              "    }\n",
              "\n",
              "    .dataframe tbody tr th {\n",
              "        vertical-align: top;\n",
              "    }\n",
              "\n",
              "    .dataframe thead th {\n",
              "        text-align: right;\n",
              "    }\n",
              "</style>\n",
              "<table border=\"1\" class=\"dataframe\">\n",
              "  <thead>\n",
              "    <tr style=\"text-align: right;\">\n",
              "      <th></th>\n",
              "      <th>Time</th>\n",
              "      <th>V1</th>\n",
              "      <th>V2</th>\n",
              "      <th>V3</th>\n",
              "      <th>V4</th>\n",
              "      <th>V5</th>\n",
              "      <th>V6</th>\n",
              "      <th>V7</th>\n",
              "      <th>V8</th>\n",
              "      <th>V9</th>\n",
              "      <th>...</th>\n",
              "      <th>V20</th>\n",
              "      <th>V21</th>\n",
              "      <th>V22</th>\n",
              "      <th>V23</th>\n",
              "      <th>V24</th>\n",
              "      <th>V25</th>\n",
              "      <th>V26</th>\n",
              "      <th>V27</th>\n",
              "      <th>V28</th>\n",
              "      <th>Amount</th>\n",
              "    </tr>\n",
              "  </thead>\n",
              "  <tbody>\n",
              "    <tr>\n",
              "      <th>581</th>\n",
              "      <td>433</td>\n",
              "      <td>-0.599759</td>\n",
              "      <td>1.383107</td>\n",
              "      <td>2.381261</td>\n",
              "      <td>2.686183</td>\n",
              "      <td>0.317047</td>\n",
              "      <td>0.801453</td>\n",
              "      <td>0.591630</td>\n",
              "      <td>0.000285</td>\n",
              "      <td>-1.259088</td>\n",
              "      <td>...</td>\n",
              "      <td>0.415559</td>\n",
              "      <td>-0.268743</td>\n",
              "      <td>-0.388863</td>\n",
              "      <td>-0.273141</td>\n",
              "      <td>0.006995</td>\n",
              "      <td>0.144277</td>\n",
              "      <td>0.081082</td>\n",
              "      <td>0.041199</td>\n",
              "      <td>-0.081265</td>\n",
              "      <td>5.31</td>\n",
              "    </tr>\n",
              "    <tr>\n",
              "      <th>457</th>\n",
              "      <td>335</td>\n",
              "      <td>-0.779988</td>\n",
              "      <td>1.395775</td>\n",
              "      <td>1.780828</td>\n",
              "      <td>-0.187325</td>\n",
              "      <td>0.953850</td>\n",
              "      <td>-0.511395</td>\n",
              "      <td>1.419480</td>\n",
              "      <td>-0.942652</td>\n",
              "      <td>0.412283</td>\n",
              "      <td>...</td>\n",
              "      <td>0.650203</td>\n",
              "      <td>-0.303942</td>\n",
              "      <td>-0.059939</td>\n",
              "      <td>-0.547134</td>\n",
              "      <td>-0.216276</td>\n",
              "      <td>0.325048</td>\n",
              "      <td>0.290821</td>\n",
              "      <td>-0.529626</td>\n",
              "      <td>-0.668827</td>\n",
              "      <td>1.03</td>\n",
              "    </tr>\n",
              "    <tr>\n",
              "      <th>33</th>\n",
              "      <td>26</td>\n",
              "      <td>-0.529912</td>\n",
              "      <td>0.873892</td>\n",
              "      <td>1.347247</td>\n",
              "      <td>0.145457</td>\n",
              "      <td>0.414209</td>\n",
              "      <td>0.100223</td>\n",
              "      <td>0.711206</td>\n",
              "      <td>0.176066</td>\n",
              "      <td>-0.286717</td>\n",
              "      <td>...</td>\n",
              "      <td>-0.290348</td>\n",
              "      <td>0.046949</td>\n",
              "      <td>0.208105</td>\n",
              "      <td>-0.185548</td>\n",
              "      <td>0.001031</td>\n",
              "      <td>0.098816</td>\n",
              "      <td>-0.552904</td>\n",
              "      <td>-0.073288</td>\n",
              "      <td>0.023307</td>\n",
              "      <td>6.14</td>\n",
              "    </tr>\n",
              "    <tr>\n",
              "      <th>652</th>\n",
              "      <td>493</td>\n",
              "      <td>1.219725</td>\n",
              "      <td>-0.481149</td>\n",
              "      <td>-0.324351</td>\n",
              "      <td>-1.552562</td>\n",
              "      <td>-0.258357</td>\n",
              "      <td>-0.519342</td>\n",
              "      <td>-0.035458</td>\n",
              "      <td>-0.117824</td>\n",
              "      <td>1.267125</td>\n",
              "      <td>...</td>\n",
              "      <td>0.035718</td>\n",
              "      <td>-0.040428</td>\n",
              "      <td>-0.106938</td>\n",
              "      <td>-0.171758</td>\n",
              "      <td>-0.721597</td>\n",
              "      <td>0.525568</td>\n",
              "      <td>0.084212</td>\n",
              "      <td>-0.001621</td>\n",
              "      <td>0.011866</td>\n",
              "      <td>67.94</td>\n",
              "    </tr>\n",
              "    <tr>\n",
              "      <th>129</th>\n",
              "      <td>81</td>\n",
              "      <td>1.111048</td>\n",
              "      <td>0.215352</td>\n",
              "      <td>0.374073</td>\n",
              "      <td>1.150001</td>\n",
              "      <td>-0.329768</td>\n",
              "      <td>-0.898688</td>\n",
              "      <td>0.309907</td>\n",
              "      <td>-0.255277</td>\n",
              "      <td>-0.110655</td>\n",
              "      <td>...</td>\n",
              "      <td>0.031672</td>\n",
              "      <td>-0.132555</td>\n",
              "      <td>-0.493867</td>\n",
              "      <td>-0.010782</td>\n",
              "      <td>0.380389</td>\n",
              "      <td>0.456214</td>\n",
              "      <td>-0.572347</td>\n",
              "      <td>0.010981</td>\n",
              "      <td>0.039295</td>\n",
              "      <td>68.74</td>\n",
              "    </tr>\n",
              "    <tr>\n",
              "      <th>...</th>\n",
              "      <td>...</td>\n",
              "      <td>...</td>\n",
              "      <td>...</td>\n",
              "      <td>...</td>\n",
              "      <td>...</td>\n",
              "      <td>...</td>\n",
              "      <td>...</td>\n",
              "      <td>...</td>\n",
              "      <td>...</td>\n",
              "      <td>...</td>\n",
              "      <td>...</td>\n",
              "      <td>...</td>\n",
              "      <td>...</td>\n",
              "      <td>...</td>\n",
              "      <td>...</td>\n",
              "      <td>...</td>\n",
              "      <td>...</td>\n",
              "      <td>...</td>\n",
              "      <td>...</td>\n",
              "      <td>...</td>\n",
              "      <td>...</td>\n",
              "    </tr>\n",
              "    <tr>\n",
              "      <th>405</th>\n",
              "      <td>292</td>\n",
              "      <td>1.252189</td>\n",
              "      <td>-0.126779</td>\n",
              "      <td>0.280285</td>\n",
              "      <td>0.579416</td>\n",
              "      <td>-0.374125</td>\n",
              "      <td>-0.215217</td>\n",
              "      <td>-0.193078</td>\n",
              "      <td>0.011076</td>\n",
              "      <td>0.770448</td>\n",
              "      <td>...</td>\n",
              "      <td>-0.122255</td>\n",
              "      <td>-0.360296</td>\n",
              "      <td>-0.959573</td>\n",
              "      <td>-0.023837</td>\n",
              "      <td>-0.462201</td>\n",
              "      <td>0.381732</td>\n",
              "      <td>0.340518</td>\n",
              "      <td>-0.034929</td>\n",
              "      <td>0.007525</td>\n",
              "      <td>23.88</td>\n",
              "    </tr>\n",
              "    <tr>\n",
              "      <th>613</th>\n",
              "      <td>463</td>\n",
              "      <td>-0.386726</td>\n",
              "      <td>0.172565</td>\n",
              "      <td>0.732583</td>\n",
              "      <td>-1.434662</td>\n",
              "      <td>0.033065</td>\n",
              "      <td>-1.043657</td>\n",
              "      <td>0.720715</td>\n",
              "      <td>-0.150763</td>\n",
              "      <td>0.422942</td>\n",
              "      <td>...</td>\n",
              "      <td>0.175251</td>\n",
              "      <td>0.143196</td>\n",
              "      <td>0.402446</td>\n",
              "      <td>-0.020879</td>\n",
              "      <td>0.121543</td>\n",
              "      <td>-0.194311</td>\n",
              "      <td>0.114302</td>\n",
              "      <td>0.114048</td>\n",
              "      <td>0.135687</td>\n",
              "      <td>55.00</td>\n",
              "    </tr>\n",
              "    <tr>\n",
              "      <th>570</th>\n",
              "      <td>427</td>\n",
              "      <td>-0.847312</td>\n",
              "      <td>0.854261</td>\n",
              "      <td>0.338816</td>\n",
              "      <td>0.890137</td>\n",
              "      <td>0.804751</td>\n",
              "      <td>1.165501</td>\n",
              "      <td>-0.081408</td>\n",
              "      <td>0.879014</td>\n",
              "      <td>-0.394737</td>\n",
              "      <td>...</td>\n",
              "      <td>0.081904</td>\n",
              "      <td>-0.046690</td>\n",
              "      <td>-0.075301</td>\n",
              "      <td>-0.308479</td>\n",
              "      <td>-1.733137</td>\n",
              "      <td>0.087036</td>\n",
              "      <td>-0.129209</td>\n",
              "      <td>0.294334</td>\n",
              "      <td>0.071198</td>\n",
              "      <td>11.36</td>\n",
              "    </tr>\n",
              "    <tr>\n",
              "      <th>487</th>\n",
              "      <td>357</td>\n",
              "      <td>-0.711928</td>\n",
              "      <td>1.547423</td>\n",
              "      <td>1.799759</td>\n",
              "      <td>2.489060</td>\n",
              "      <td>0.450497</td>\n",
              "      <td>1.073762</td>\n",
              "      <td>0.309374</td>\n",
              "      <td>0.450854</td>\n",
              "      <td>-1.560107</td>\n",
              "      <td>...</td>\n",
              "      <td>0.356887</td>\n",
              "      <td>-0.115133</td>\n",
              "      <td>-0.136653</td>\n",
              "      <td>0.052595</td>\n",
              "      <td>-0.327937</td>\n",
              "      <td>-0.531480</td>\n",
              "      <td>0.005533</td>\n",
              "      <td>0.515896</td>\n",
              "      <td>0.250372</td>\n",
              "      <td>0.75</td>\n",
              "    </tr>\n",
              "    <tr>\n",
              "      <th>333</th>\n",
              "      <td>244</td>\n",
              "      <td>-1.118946</td>\n",
              "      <td>-0.071366</td>\n",
              "      <td>2.807769</td>\n",
              "      <td>1.025675</td>\n",
              "      <td>-0.100748</td>\n",
              "      <td>0.508680</td>\n",
              "      <td>0.620313</td>\n",
              "      <td>-0.213137</td>\n",
              "      <td>0.333039</td>\n",
              "      <td>...</td>\n",
              "      <td>0.101302</td>\n",
              "      <td>-0.045782</td>\n",
              "      <td>0.455553</td>\n",
              "      <td>0.170942</td>\n",
              "      <td>0.076211</td>\n",
              "      <td>0.197637</td>\n",
              "      <td>-0.286674</td>\n",
              "      <td>-0.230530</td>\n",
              "      <td>-0.405084</td>\n",
              "      <td>100.37</td>\n",
              "    </tr>\n",
              "  </tbody>\n",
              "</table>\n",
              "<p>270 rows × 30 columns</p>\n",
              "</div>\n",
              "    <div class=\"colab-df-buttons\">\n",
              "\n",
              "  <div class=\"colab-df-container\">\n",
              "    <button class=\"colab-df-convert\" onclick=\"convertToInteractive('df-4cf2a791-6eba-416c-ac68-1975c5e69993')\"\n",
              "            title=\"Convert this dataframe to an interactive table.\"\n",
              "            style=\"display:none;\">\n",
              "\n",
              "  <svg xmlns=\"http://www.w3.org/2000/svg\" height=\"24px\" viewBox=\"0 -960 960 960\">\n",
              "    <path d=\"M120-120v-720h720v720H120Zm60-500h600v-160H180v160Zm220 220h160v-160H400v160Zm0 220h160v-160H400v160ZM180-400h160v-160H180v160Zm440 0h160v-160H620v160ZM180-180h160v-160H180v160Zm440 0h160v-160H620v160Z\"/>\n",
              "  </svg>\n",
              "    </button>\n",
              "\n",
              "  <style>\n",
              "    .colab-df-container {\n",
              "      display:flex;\n",
              "      gap: 12px;\n",
              "    }\n",
              "\n",
              "    .colab-df-convert {\n",
              "      background-color: #E8F0FE;\n",
              "      border: none;\n",
              "      border-radius: 50%;\n",
              "      cursor: pointer;\n",
              "      display: none;\n",
              "      fill: #1967D2;\n",
              "      height: 32px;\n",
              "      padding: 0 0 0 0;\n",
              "      width: 32px;\n",
              "    }\n",
              "\n",
              "    .colab-df-convert:hover {\n",
              "      background-color: #E2EBFA;\n",
              "      box-shadow: 0px 1px 2px rgba(60, 64, 67, 0.3), 0px 1px 3px 1px rgba(60, 64, 67, 0.15);\n",
              "      fill: #174EA6;\n",
              "    }\n",
              "\n",
              "    .colab-df-buttons div {\n",
              "      margin-bottom: 4px;\n",
              "    }\n",
              "\n",
              "    [theme=dark] .colab-df-convert {\n",
              "      background-color: #3B4455;\n",
              "      fill: #D2E3FC;\n",
              "    }\n",
              "\n",
              "    [theme=dark] .colab-df-convert:hover {\n",
              "      background-color: #434B5C;\n",
              "      box-shadow: 0px 1px 3px 1px rgba(0, 0, 0, 0.15);\n",
              "      filter: drop-shadow(0px 1px 2px rgba(0, 0, 0, 0.3));\n",
              "      fill: #FFFFFF;\n",
              "    }\n",
              "  </style>\n",
              "\n",
              "    <script>\n",
              "      const buttonEl =\n",
              "        document.querySelector('#df-4cf2a791-6eba-416c-ac68-1975c5e69993 button.colab-df-convert');\n",
              "      buttonEl.style.display =\n",
              "        google.colab.kernel.accessAllowed ? 'block' : 'none';\n",
              "\n",
              "      async function convertToInteractive(key) {\n",
              "        const element = document.querySelector('#df-4cf2a791-6eba-416c-ac68-1975c5e69993');\n",
              "        const dataTable =\n",
              "          await google.colab.kernel.invokeFunction('convertToInteractive',\n",
              "                                                    [key], {});\n",
              "        if (!dataTable) return;\n",
              "\n",
              "        const docLinkHtml = 'Like what you see? Visit the ' +\n",
              "          '<a target=\"_blank\" href=https://colab.research.google.com/notebooks/data_table.ipynb>data table notebook</a>'\n",
              "          + ' to learn more about interactive tables.';\n",
              "        element.innerHTML = '';\n",
              "        dataTable['output_type'] = 'display_data';\n",
              "        await google.colab.output.renderOutput(dataTable, element);\n",
              "        const docLink = document.createElement('div');\n",
              "        docLink.innerHTML = docLinkHtml;\n",
              "        element.appendChild(docLink);\n",
              "      }\n",
              "    </script>\n",
              "  </div>\n",
              "\n",
              "\n",
              "<div id=\"df-7a66fc7b-3e3b-401a-832a-134f104c22d4\">\n",
              "  <button class=\"colab-df-quickchart\" onclick=\"quickchart('df-7a66fc7b-3e3b-401a-832a-134f104c22d4')\"\n",
              "            title=\"Suggest charts\"\n",
              "            style=\"display:none;\">\n",
              "\n",
              "<svg xmlns=\"http://www.w3.org/2000/svg\" height=\"24px\"viewBox=\"0 0 24 24\"\n",
              "     width=\"24px\">\n",
              "    <g>\n",
              "        <path d=\"M19 3H5c-1.1 0-2 .9-2 2v14c0 1.1.9 2 2 2h14c1.1 0 2-.9 2-2V5c0-1.1-.9-2-2-2zM9 17H7v-7h2v7zm4 0h-2V7h2v10zm4 0h-2v-4h2v4z\"/>\n",
              "    </g>\n",
              "</svg>\n",
              "  </button>\n",
              "\n",
              "<style>\n",
              "  .colab-df-quickchart {\n",
              "      --bg-color: #E8F0FE;\n",
              "      --fill-color: #1967D2;\n",
              "      --hover-bg-color: #E2EBFA;\n",
              "      --hover-fill-color: #174EA6;\n",
              "      --disabled-fill-color: #AAA;\n",
              "      --disabled-bg-color: #DDD;\n",
              "  }\n",
              "\n",
              "  [theme=dark] .colab-df-quickchart {\n",
              "      --bg-color: #3B4455;\n",
              "      --fill-color: #D2E3FC;\n",
              "      --hover-bg-color: #434B5C;\n",
              "      --hover-fill-color: #FFFFFF;\n",
              "      --disabled-bg-color: #3B4455;\n",
              "      --disabled-fill-color: #666;\n",
              "  }\n",
              "\n",
              "  .colab-df-quickchart {\n",
              "    background-color: var(--bg-color);\n",
              "    border: none;\n",
              "    border-radius: 50%;\n",
              "    cursor: pointer;\n",
              "    display: none;\n",
              "    fill: var(--fill-color);\n",
              "    height: 32px;\n",
              "    padding: 0;\n",
              "    width: 32px;\n",
              "  }\n",
              "\n",
              "  .colab-df-quickchart:hover {\n",
              "    background-color: var(--hover-bg-color);\n",
              "    box-shadow: 0 1px 2px rgba(60, 64, 67, 0.3), 0 1px 3px 1px rgba(60, 64, 67, 0.15);\n",
              "    fill: var(--button-hover-fill-color);\n",
              "  }\n",
              "\n",
              "  .colab-df-quickchart-complete:disabled,\n",
              "  .colab-df-quickchart-complete:disabled:hover {\n",
              "    background-color: var(--disabled-bg-color);\n",
              "    fill: var(--disabled-fill-color);\n",
              "    box-shadow: none;\n",
              "  }\n",
              "\n",
              "  .colab-df-spinner {\n",
              "    border: 2px solid var(--fill-color);\n",
              "    border-color: transparent;\n",
              "    border-bottom-color: var(--fill-color);\n",
              "    animation:\n",
              "      spin 1s steps(1) infinite;\n",
              "  }\n",
              "\n",
              "  @keyframes spin {\n",
              "    0% {\n",
              "      border-color: transparent;\n",
              "      border-bottom-color: var(--fill-color);\n",
              "      border-left-color: var(--fill-color);\n",
              "    }\n",
              "    20% {\n",
              "      border-color: transparent;\n",
              "      border-left-color: var(--fill-color);\n",
              "      border-top-color: var(--fill-color);\n",
              "    }\n",
              "    30% {\n",
              "      border-color: transparent;\n",
              "      border-left-color: var(--fill-color);\n",
              "      border-top-color: var(--fill-color);\n",
              "      border-right-color: var(--fill-color);\n",
              "    }\n",
              "    40% {\n",
              "      border-color: transparent;\n",
              "      border-right-color: var(--fill-color);\n",
              "      border-top-color: var(--fill-color);\n",
              "    }\n",
              "    60% {\n",
              "      border-color: transparent;\n",
              "      border-right-color: var(--fill-color);\n",
              "    }\n",
              "    80% {\n",
              "      border-color: transparent;\n",
              "      border-right-color: var(--fill-color);\n",
              "      border-bottom-color: var(--fill-color);\n",
              "    }\n",
              "    90% {\n",
              "      border-color: transparent;\n",
              "      border-bottom-color: var(--fill-color);\n",
              "    }\n",
              "  }\n",
              "</style>\n",
              "\n",
              "  <script>\n",
              "    async function quickchart(key) {\n",
              "      const quickchartButtonEl =\n",
              "        document.querySelector('#' + key + ' button');\n",
              "      quickchartButtonEl.disabled = true;  // To prevent multiple clicks.\n",
              "      quickchartButtonEl.classList.add('colab-df-spinner');\n",
              "      try {\n",
              "        const charts = await google.colab.kernel.invokeFunction(\n",
              "            'suggestCharts', [key], {});\n",
              "      } catch (error) {\n",
              "        console.error('Error during call to suggestCharts:', error);\n",
              "      }\n",
              "      quickchartButtonEl.classList.remove('colab-df-spinner');\n",
              "      quickchartButtonEl.classList.add('colab-df-quickchart-complete');\n",
              "    }\n",
              "    (() => {\n",
              "      let quickchartButtonEl =\n",
              "        document.querySelector('#df-7a66fc7b-3e3b-401a-832a-134f104c22d4 button');\n",
              "      quickchartButtonEl.style.display =\n",
              "        google.colab.kernel.accessAllowed ? 'block' : 'none';\n",
              "    })();\n",
              "  </script>\n",
              "</div>\n",
              "\n",
              "  <div id=\"id_9c3c0c39-c422-4d1c-8925-3a0dc0cced9e\">\n",
              "    <style>\n",
              "      .colab-df-generate {\n",
              "        background-color: #E8F0FE;\n",
              "        border: none;\n",
              "        border-radius: 50%;\n",
              "        cursor: pointer;\n",
              "        display: none;\n",
              "        fill: #1967D2;\n",
              "        height: 32px;\n",
              "        padding: 0 0 0 0;\n",
              "        width: 32px;\n",
              "      }\n",
              "\n",
              "      .colab-df-generate:hover {\n",
              "        background-color: #E2EBFA;\n",
              "        box-shadow: 0px 1px 2px rgba(60, 64, 67, 0.3), 0px 1px 3px 1px rgba(60, 64, 67, 0.15);\n",
              "        fill: #174EA6;\n",
              "      }\n",
              "\n",
              "      [theme=dark] .colab-df-generate {\n",
              "        background-color: #3B4455;\n",
              "        fill: #D2E3FC;\n",
              "      }\n",
              "\n",
              "      [theme=dark] .colab-df-generate:hover {\n",
              "        background-color: #434B5C;\n",
              "        box-shadow: 0px 1px 3px 1px rgba(0, 0, 0, 0.15);\n",
              "        filter: drop-shadow(0px 1px 2px rgba(0, 0, 0, 0.3));\n",
              "        fill: #FFFFFF;\n",
              "      }\n",
              "    </style>\n",
              "    <button class=\"colab-df-generate\" onclick=\"generateWithVariable('X_stratified_sample')\"\n",
              "            title=\"Generate code using this dataframe.\"\n",
              "            style=\"display:none;\">\n",
              "\n",
              "  <svg xmlns=\"http://www.w3.org/2000/svg\" height=\"24px\"viewBox=\"0 0 24 24\"\n",
              "       width=\"24px\">\n",
              "    <path d=\"M7,19H8.4L18.45,9,17,7.55,7,17.6ZM5,21V16.75L18.45,3.32a2,2,0,0,1,2.83,0l1.4,1.43a1.91,1.91,0,0,1,.58,1.4,1.91,1.91,0,0,1-.58,1.4L9.25,21ZM18.45,9,17,7.55Zm-12,3A5.31,5.31,0,0,0,4.9,8.1,5.31,5.31,0,0,0,1,6.5,5.31,5.31,0,0,0,4.9,4.9,5.31,5.31,0,0,0,6.5,1,5.31,5.31,0,0,0,8.1,4.9,5.31,5.31,0,0,0,12,6.5,5.46,5.46,0,0,0,6.5,12Z\"/>\n",
              "  </svg>\n",
              "    </button>\n",
              "    <script>\n",
              "      (() => {\n",
              "      const buttonEl =\n",
              "        document.querySelector('#id_9c3c0c39-c422-4d1c-8925-3a0dc0cced9e button.colab-df-generate');\n",
              "      buttonEl.style.display =\n",
              "        google.colab.kernel.accessAllowed ? 'block' : 'none';\n",
              "\n",
              "      buttonEl.onclick = () => {\n",
              "        google.colab.notebook.generateWithVariable('X_stratified_sample');\n",
              "      }\n",
              "      })();\n",
              "    </script>\n",
              "  </div>\n",
              "\n",
              "    </div>\n",
              "  </div>\n"
            ]
          },
          "metadata": {},
          "execution_count": 202
        }
      ]
    },
    {
      "cell_type": "markdown",
      "source": [
        "BOOTSTRAP SAMPLING"
      ],
      "metadata": {
        "id": "oi6U99QeBwfU"
      }
    },
    {
      "cell_type": "code",
      "source": [
        "X_bootstrap_samples = []\n",
        "y_bootstrap_samples = []\n",
        "\n",
        "# Perform bootstrap sampling to obtain the resampled datasets\n",
        "for _ in range(simple_random_sampling):\n",
        "    # Randomly select indices with replacement\n",
        "    bootstrap_indices = np.random.choice(len(X_balanced), size=len(X_balanced), replace=True)\n",
        "\n",
        "    # Create resampled datasets using the selected indices\n",
        "    bootstrap_X_sample = X_balanced.iloc[bootstrap_indices]\n",
        "    bootstrap_y_sample = y_balanced.iloc[bootstrap_indices]\n",
        "\n",
        "    # Append the resampled datasets to the lists\n",
        "    X_bootstrap_samples.append(bootstrap_X_sample)\n",
        "    y_bootstrap_samples.append(bootstrap_y_sample)\n",
        "\n",
        "# bootstrap_X_samples"
      ],
      "metadata": {
        "id": "i3APx1242q54"
      },
      "execution_count": 155,
      "outputs": []
    },
    {
      "cell_type": "code",
      "source": [
        "X_bootstrap_sample = X_bootstrap_samples[0]\n",
        "y_bootstrap_sample = y_bootstrap_samples[0]"
      ],
      "metadata": {
        "id": "Q1pAC8eu327B"
      },
      "execution_count": 161,
      "outputs": []
    },
    {
      "cell_type": "code",
      "source": [
        "X_train_random_sample, X_test_random_sample, y_train_random_sample, y_test_random_sample = train_test_split(X_random_sample, y_random_sample, random_state=42)\n",
        "X_train_systematic_sample, X_test_systematic_sample, y_train_systematic_sample, y_test_systematic_sample = train_test_split(X_systematic_sample, y_systematic_sample, random_state=42)\n",
        "X_train_stratified_sample, X_test_stratified_sample, y_train_stratified_sample, y_test_stratified_sample = train_test_split(X_stratified_sample, y_stratified_sample, random_state=42)"
      ],
      "metadata": {
        "id": "rYjq9etuw5ie"
      },
      "execution_count": 136,
      "outputs": []
    },
    {
      "cell_type": "code",
      "source": [
        "# y_bootstrap_samples\n",
        "X_train_bootstrap_sample, X_test_bootstrap_sample, y_train_bootstrap_sample, y_test_bootstrap_sample = train_test_split(X_bootstrap_sample, y_bootstrap_sample, random_state=42)"
      ],
      "metadata": {
        "id": "OEqbv-QU3IaN"
      },
      "execution_count": 162,
      "outputs": []
    },
    {
      "cell_type": "code",
      "source": [
        "X_train_stratified_sample, X_test_stratified_sample, y_train_stratified_sample, y_test_stratified_sample = train_test_split(X_stratified_sample, y_stratified_sample, random_state=42)"
      ],
      "metadata": {
        "id": "r8ysl4n7CFAi"
      },
      "execution_count": null,
      "outputs": []
    },
    {
      "cell_type": "markdown",
      "source": [
        "# NOW MODELS PERFORMANCES ON EACH SAMPLE\n",
        "1) Logistic Regression\n"
      ],
      "metadata": {
        "id": "gPtQh21jv7aL"
      }
    },
    {
      "cell_type": "code",
      "source": [
        "from sklearn.linear_model import LogisticRegression\n",
        "from sklearn.metrics import accuracy_score\n",
        "\n",
        "\n",
        "classifier = LogisticRegression(random_state=42)\n",
        "classifier.fit(X_train_random_sample, y_train_random_sample)\n",
        "y_pred = classifier.predict(X_test_random_sample)\n",
        "\n",
        "\n",
        "print(accuracy_score(y_test_random_sample, y_pred))"
      ],
      "metadata": {
        "colab": {
          "base_uri": "https://localhost:8080/"
        },
        "id": "FoClGkWQvPEL",
        "outputId": "888b6334-5602-4e49-c976-180626bdcde5"
      },
      "execution_count": 139,
      "outputs": [
        {
          "output_type": "stream",
          "name": "stdout",
          "text": [
            "0.9117647058823529\n"
          ]
        },
        {
          "output_type": "stream",
          "name": "stderr",
          "text": [
            "/usr/local/lib/python3.10/dist-packages/sklearn/linear_model/_logistic.py:458: ConvergenceWarning: lbfgs failed to converge (status=1):\n",
            "STOP: TOTAL NO. of ITERATIONS REACHED LIMIT.\n",
            "\n",
            "Increase the number of iterations (max_iter) or scale the data as shown in:\n",
            "    https://scikit-learn.org/stable/modules/preprocessing.html\n",
            "Please also refer to the documentation for alternative solver options:\n",
            "    https://scikit-learn.org/stable/modules/linear_model.html#logistic-regression\n",
            "  n_iter_i = _check_optimize_result(\n"
          ]
        }
      ]
    },
    {
      "cell_type": "code",
      "source": [
        "classifier = LogisticRegression(random_state=42)\n",
        "classifier.fit(X_train_systematic_sample, y_train_systematic_sample)\n",
        "y_pred = classifier.predict(X_test_systematic_sample)\n",
        "\n",
        "\n",
        "print(accuracy_score(y_test_systematic_sample, y_pred))"
      ],
      "metadata": {
        "colab": {
          "base_uri": "https://localhost:8080/"
        },
        "id": "nIC8gTMgzWpd",
        "outputId": "bfd7f229-971e-4e1b-885d-6908a82a1f2f"
      },
      "execution_count": 140,
      "outputs": [
        {
          "output_type": "stream",
          "name": "stdout",
          "text": [
            "0.8441558441558441\n"
          ]
        },
        {
          "output_type": "stream",
          "name": "stderr",
          "text": [
            "/usr/local/lib/python3.10/dist-packages/sklearn/linear_model/_logistic.py:458: ConvergenceWarning: lbfgs failed to converge (status=1):\n",
            "STOP: TOTAL NO. of ITERATIONS REACHED LIMIT.\n",
            "\n",
            "Increase the number of iterations (max_iter) or scale the data as shown in:\n",
            "    https://scikit-learn.org/stable/modules/preprocessing.html\n",
            "Please also refer to the documentation for alternative solver options:\n",
            "    https://scikit-learn.org/stable/modules/linear_model.html#logistic-regression\n",
            "  n_iter_i = _check_optimize_result(\n"
          ]
        }
      ]
    },
    {
      "cell_type": "code",
      "source": [
        "classifier = LogisticRegression(random_state=42)\n",
        "classifier.fit(X_train_stratified_sample, y_train_stratified_sample)\n",
        "y_pred = classifier.predict(X_test_stratified_sample)\n",
        "\n",
        "\n",
        "print(accuracy_score(y_test_stratified_sample, y_pred))"
      ],
      "metadata": {
        "colab": {
          "base_uri": "https://localhost:8080/"
        },
        "id": "sy4s3FY0ze1I",
        "outputId": "450fbe5c-be59-4339-9a98-568bed25bacf"
      },
      "execution_count": 143,
      "outputs": [
        {
          "output_type": "stream",
          "name": "stdout",
          "text": [
            "0.9705882352941176\n"
          ]
        },
        {
          "output_type": "stream",
          "name": "stderr",
          "text": [
            "/usr/local/lib/python3.10/dist-packages/sklearn/linear_model/_logistic.py:458: ConvergenceWarning: lbfgs failed to converge (status=1):\n",
            "STOP: TOTAL NO. of ITERATIONS REACHED LIMIT.\n",
            "\n",
            "Increase the number of iterations (max_iter) or scale the data as shown in:\n",
            "    https://scikit-learn.org/stable/modules/preprocessing.html\n",
            "Please also refer to the documentation for alternative solver options:\n",
            "    https://scikit-learn.org/stable/modules/linear_model.html#logistic-regression\n",
            "  n_iter_i = _check_optimize_result(\n"
          ]
        }
      ]
    },
    {
      "cell_type": "code",
      "source": [
        "classifier = LogisticRegression(random_state=42)\n",
        "classifier.fit(X_train_bootstrap_sample, y_train_bootstrap_sample)\n",
        "y_pred = classifier.predict(X_test_bootstrap_sample)\n",
        "\n",
        "\n",
        "print(accuracy_score(y_test_bootstrap_sample, y_pred))"
      ],
      "metadata": {
        "colab": {
          "base_uri": "https://localhost:8080/"
        },
        "id": "fWzCg6b719mY",
        "outputId": "c01faa19-65f6-4ab9-f381-9e2d7e8ad14d"
      },
      "execution_count": 163,
      "outputs": [
        {
          "output_type": "stream",
          "name": "stdout",
          "text": [
            "0.9528795811518325\n"
          ]
        },
        {
          "output_type": "stream",
          "name": "stderr",
          "text": [
            "/usr/local/lib/python3.10/dist-packages/sklearn/linear_model/_logistic.py:458: ConvergenceWarning: lbfgs failed to converge (status=1):\n",
            "STOP: TOTAL NO. of ITERATIONS REACHED LIMIT.\n",
            "\n",
            "Increase the number of iterations (max_iter) or scale the data as shown in:\n",
            "    https://scikit-learn.org/stable/modules/preprocessing.html\n",
            "Please also refer to the documentation for alternative solver options:\n",
            "    https://scikit-learn.org/stable/modules/linear_model.html#logistic-regression\n",
            "  n_iter_i = _check_optimize_result(\n"
          ]
        }
      ]
    },
    {
      "cell_type": "code",
      "source": [
        "from sklearn.model_selection import StratifiedKFold\n",
        "stratified_kfold = StratifiedKFold(n_splits=5, shuffle=True, random_state=42)\n",
        "\n",
        "cross_val_scores = []\n",
        "\n",
        "for train_index, test_index in stratified_kfold.split(X_random_sample, y_random_sample):\n",
        "    X_train, X_test = X_random_sample.iloc[train_index], X_random_sample.iloc[test_index]\n",
        "    y_train, y_test = y_random_sample.iloc[train_index], y_random_sample.iloc[test_index]\n",
        "\n",
        "\n",
        "    classifier = LogisticRegression(random_state=42)\n",
        "    classifier.fit(X_train, y_train)\n",
        "\n",
        "\n",
        "    y_pred = classifier.predict(X_test)\n",
        "\n",
        "\n",
        "    accuracy = accuracy_score(y_test, y_pred)\n",
        "    cross_val_scores.append(accuracy)\n",
        "\n",
        "mean_accuracy = np.mean(cross_val_scores)\n",
        "print(\"Mean Accuracy: \",(mean_accuracy))"
      ],
      "metadata": {
        "colab": {
          "base_uri": "https://localhost:8080/"
        },
        "id": "85SWCPVBzqGP",
        "outputId": "e80e506b-0b56-4c88-b828-5504aca55d31"
      },
      "execution_count": 194,
      "outputs": [
        {
          "output_type": "stream",
          "name": "stdout",
          "text": [
            "Mean Accuracy:  0.9185185185185185\n"
          ]
        },
        {
          "output_type": "stream",
          "name": "stderr",
          "text": [
            "/usr/local/lib/python3.10/dist-packages/sklearn/linear_model/_logistic.py:458: ConvergenceWarning: lbfgs failed to converge (status=1):\n",
            "STOP: TOTAL NO. of ITERATIONS REACHED LIMIT.\n",
            "\n",
            "Increase the number of iterations (max_iter) or scale the data as shown in:\n",
            "    https://scikit-learn.org/stable/modules/preprocessing.html\n",
            "Please also refer to the documentation for alternative solver options:\n",
            "    https://scikit-learn.org/stable/modules/linear_model.html#logistic-regression\n",
            "  n_iter_i = _check_optimize_result(\n",
            "/usr/local/lib/python3.10/dist-packages/sklearn/linear_model/_logistic.py:458: ConvergenceWarning: lbfgs failed to converge (status=1):\n",
            "STOP: TOTAL NO. of ITERATIONS REACHED LIMIT.\n",
            "\n",
            "Increase the number of iterations (max_iter) or scale the data as shown in:\n",
            "    https://scikit-learn.org/stable/modules/preprocessing.html\n",
            "Please also refer to the documentation for alternative solver options:\n",
            "    https://scikit-learn.org/stable/modules/linear_model.html#logistic-regression\n",
            "  n_iter_i = _check_optimize_result(\n",
            "/usr/local/lib/python3.10/dist-packages/sklearn/linear_model/_logistic.py:458: ConvergenceWarning: lbfgs failed to converge (status=1):\n",
            "STOP: TOTAL NO. of ITERATIONS REACHED LIMIT.\n",
            "\n",
            "Increase the number of iterations (max_iter) or scale the data as shown in:\n",
            "    https://scikit-learn.org/stable/modules/preprocessing.html\n",
            "Please also refer to the documentation for alternative solver options:\n",
            "    https://scikit-learn.org/stable/modules/linear_model.html#logistic-regression\n",
            "  n_iter_i = _check_optimize_result(\n",
            "/usr/local/lib/python3.10/dist-packages/sklearn/linear_model/_logistic.py:458: ConvergenceWarning: lbfgs failed to converge (status=1):\n",
            "STOP: TOTAL NO. of ITERATIONS REACHED LIMIT.\n",
            "\n",
            "Increase the number of iterations (max_iter) or scale the data as shown in:\n",
            "    https://scikit-learn.org/stable/modules/preprocessing.html\n",
            "Please also refer to the documentation for alternative solver options:\n",
            "    https://scikit-learn.org/stable/modules/linear_model.html#logistic-regression\n",
            "  n_iter_i = _check_optimize_result(\n",
            "/usr/local/lib/python3.10/dist-packages/sklearn/linear_model/_logistic.py:458: ConvergenceWarning: lbfgs failed to converge (status=1):\n",
            "STOP: TOTAL NO. of ITERATIONS REACHED LIMIT.\n",
            "\n",
            "Increase the number of iterations (max_iter) or scale the data as shown in:\n",
            "    https://scikit-learn.org/stable/modules/preprocessing.html\n",
            "Please also refer to the documentation for alternative solver options:\n",
            "    https://scikit-learn.org/stable/modules/linear_model.html#logistic-regression\n",
            "  n_iter_i = _check_optimize_result(\n"
          ]
        }
      ]
    },
    {
      "cell_type": "markdown",
      "source": [
        "RANDOM FOREST"
      ],
      "metadata": {
        "id": "U5Y4Npfq1X19"
      }
    },
    {
      "cell_type": "code",
      "source": [
        "from sklearn.ensemble import RandomForestClassifier"
      ],
      "metadata": {
        "id": "TlEF9DxT1Vjp"
      },
      "execution_count": 148,
      "outputs": []
    },
    {
      "cell_type": "code",
      "source": [
        "classifier = RandomForestClassifier(random_state=42)\n",
        "classifier.fit(X_train_random_sample, y_train_random_sample)\n",
        "y_pred = classifier.predict(X_test_random_sample)\n",
        "\n",
        "\n",
        "print(accuracy_score(y_test_random_sample, y_pred))"
      ],
      "metadata": {
        "colab": {
          "base_uri": "https://localhost:8080/"
        },
        "id": "2Hc_8mj31kMq",
        "outputId": "42f7aa1f-190e-4256-ed6a-c4881175d142"
      },
      "execution_count": 149,
      "outputs": [
        {
          "output_type": "stream",
          "name": "stdout",
          "text": [
            "0.9705882352941176\n"
          ]
        }
      ]
    },
    {
      "cell_type": "code",
      "source": [
        "classifier = RandomForestClassifier(random_state=42)\n",
        "classifier.fit(X_train_systematic_sample, y_train_systematic_sample)\n",
        "y_pred = classifier.predict(X_test_systematic_sample)\n",
        "\n",
        "\n",
        "print(accuracy_score(y_test_systematic_sample, y_pred))"
      ],
      "metadata": {
        "colab": {
          "base_uri": "https://localhost:8080/"
        },
        "id": "1FPk1MJ-1rC3",
        "outputId": "92deb2cb-0f6c-4e1f-bc77-023946458fd1"
      },
      "execution_count": 150,
      "outputs": [
        {
          "output_type": "stream",
          "name": "stdout",
          "text": [
            "0.948051948051948\n"
          ]
        }
      ]
    },
    {
      "cell_type": "code",
      "source": [
        "classifier = RandomForestClassifier(random_state=42)\n",
        "classifier.fit(X_train_stratified_sample, y_train_stratified_sample)\n",
        "y_pred = classifier.predict(X_test_stratified_sample)\n",
        "\n",
        "\n",
        "print(accuracy_score(y_test_stratified_sample, y_pred))"
      ],
      "metadata": {
        "colab": {
          "base_uri": "https://localhost:8080/"
        },
        "id": "RJKZbS5n1zHj",
        "outputId": "919ca116-1428-4b5d-a2da-c133cc9cf24b"
      },
      "execution_count": 151,
      "outputs": [
        {
          "output_type": "stream",
          "name": "stdout",
          "text": [
            "0.9705882352941176\n"
          ]
        }
      ]
    },
    {
      "cell_type": "code",
      "source": [
        "classifier = RandomForestClassifier(random_state=42)\n",
        "classifier.fit(X_train_bootstrap_sample, y_train_bootstrap_sample)\n",
        "y_pred = classifier.predict(X_test_bootstrap_sample)\n",
        "\n",
        "\n",
        "print(accuracy_score(y_test_bootstrap_sample, y_pred))"
      ],
      "metadata": {
        "colab": {
          "base_uri": "https://localhost:8080/"
        },
        "id": "JGl2aqTR14Sy",
        "outputId": "c8ccb055-ddf1-41d4-82b4-bced6a121f79"
      },
      "execution_count": 164,
      "outputs": [
        {
          "output_type": "stream",
          "name": "stdout",
          "text": [
            "0.9947643979057592\n"
          ]
        }
      ]
    },
    {
      "cell_type": "code",
      "source": [
        "from sklearn.model_selection import StratifiedKFold\n",
        "stratified_kfold = StratifiedKFold(n_splits=5, shuffle=True, random_state=42)\n",
        "\n",
        "cross_val_scores = []\n",
        "\n",
        "for train_index, test_index in stratified_kfold.split(X_random_sample, y_random_sample):\n",
        "    X_train, X_test = X_random_sample.iloc[train_index], X_random_sample.iloc[test_index]\n",
        "    y_train, y_test = y_random_sample.iloc[train_index], y_random_sample.iloc[test_index]\n",
        "\n",
        "\n",
        "    classifier = RandomForestClassifier(random_state=42)\n",
        "    classifier.fit(X_train, y_train)\n",
        "\n",
        "\n",
        "    y_pred = classifier.predict(X_test)\n",
        "\n",
        "\n",
        "    accuracy = accuracy_score(y_test, y_pred)\n",
        "    cross_val_scores.append(accuracy)\n",
        "\n",
        "mean_accuracy = np.mean(cross_val_scores)\n",
        "print(\"Mean Accuracy: \",mean_accuracy)"
      ],
      "metadata": {
        "colab": {
          "base_uri": "https://localhost:8080/"
        },
        "id": "owhMBPB_4XLF",
        "outputId": "d93e4751-dddd-48ec-f00a-d6b0adad1997"
      },
      "execution_count": 196,
      "outputs": [
        {
          "output_type": "stream",
          "name": "stdout",
          "text": [
            "Mean Accuracy:  0.9740740740740741\n"
          ]
        }
      ]
    },
    {
      "cell_type": "markdown",
      "source": [
        "SVM"
      ],
      "metadata": {
        "id": "LpAw4QYp4lMx"
      }
    },
    {
      "cell_type": "code",
      "source": [
        "from sklearn.svm import SVC"
      ],
      "metadata": {
        "id": "tPx2dHQD4fdV"
      },
      "execution_count": 168,
      "outputs": []
    },
    {
      "cell_type": "code",
      "source": [
        "classifier = SVC(kernel='linear', random_state=42)\n",
        "\n",
        "classifier.fit(X_train_random_sample, y_train_random_sample)\n",
        "y_pred = classifier.predict(X_test_random_sample)\n",
        "\n",
        "\n",
        "print(accuracy_score(y_test_random_sample, y_pred))"
      ],
      "metadata": {
        "colab": {
          "base_uri": "https://localhost:8080/"
        },
        "id": "H8ezHf1h4ykd",
        "outputId": "3a0d855a-3e2c-4cd2-92de-bec1b663edc5"
      },
      "execution_count": 170,
      "outputs": [
        {
          "output_type": "stream",
          "name": "stdout",
          "text": [
            "0.8970588235294118\n"
          ]
        }
      ]
    },
    {
      "cell_type": "code",
      "source": [
        "classifier = SVC(kernel='linear', random_state=42)\n",
        "classifier.fit(X_train_systematic_sample, y_train_systematic_sample)\n",
        "y_pred = classifier.predict(X_test_systematic_sample)\n",
        "\n",
        "\n",
        "print(accuracy_score(y_test_systematic_sample, y_pred))"
      ],
      "metadata": {
        "colab": {
          "base_uri": "https://localhost:8080/"
        },
        "id": "k2Jsphz65ERT",
        "outputId": "79751010-4f06-4b9d-c0f2-44d8f3950923"
      },
      "execution_count": 171,
      "outputs": [
        {
          "output_type": "stream",
          "name": "stdout",
          "text": [
            "0.8701298701298701\n"
          ]
        }
      ]
    },
    {
      "cell_type": "code",
      "source": [
        "classifier = SVC(kernel='linear', random_state=42)\n",
        "classifier.fit(X_train_stratified_sample, y_train_stratified_sample)\n",
        "y_pred = classifier.predict(X_test_stratified_sample)\n",
        "\n",
        "\n",
        "print(accuracy_score(y_test_stratified_sample, y_pred))"
      ],
      "metadata": {
        "colab": {
          "base_uri": "https://localhost:8080/"
        },
        "id": "3n76LFM55NZY",
        "outputId": "e333f39f-aff2-4f44-e070-affcde7e3d59"
      },
      "execution_count": 197,
      "outputs": [
        {
          "output_type": "stream",
          "name": "stdout",
          "text": [
            "0.9705882352941176\n"
          ]
        }
      ]
    },
    {
      "cell_type": "code",
      "source": [
        "classifier = SVC(kernel='linear', random_state=42)\n",
        "classifier.fit(X_train_bootstrap_sample, y_train_bootstrap_sample)\n",
        "y_pred = classifier.predict(X_test_bootstrap_sample)\n",
        "\n",
        "\n",
        "print(accuracy_score(y_test_bootstrap_sample, y_pred))"
      ],
      "metadata": {
        "colab": {
          "base_uri": "https://localhost:8080/"
        },
        "id": "u1EpQcJx5Szf",
        "outputId": "8391260e-c6f3-44da-8188-6ed9be5cb205"
      },
      "execution_count": 174,
      "outputs": [
        {
          "output_type": "stream",
          "name": "stdout",
          "text": [
            "0.9345549738219895\n"
          ]
        }
      ]
    },
    {
      "cell_type": "code",
      "source": [
        "from sklearn.model_selection import StratifiedKFold\n",
        "stratified_kfold = StratifiedKFold(n_splits=5, shuffle=True, random_state=42)\n",
        "\n",
        "cross_val_scores = []\n",
        "\n",
        "for train_index, test_index in stratified_kfold.split(X_random_sample, y_random_sample):\n",
        "    X_train, X_test = X_random_sample.iloc[train_index], X_random_sample.iloc[test_index]\n",
        "    y_train, y_test = y_random_sample.iloc[train_index], y_random_sample.iloc[test_index]\n",
        "\n",
        "\n",
        "    classifier = SVC(kernel='linear', random_state=42)\n",
        "    classifier.fit(X_train, y_train)\n",
        "\n",
        "\n",
        "    y_pred = classifier.predict(X_test)\n",
        "\n",
        "\n",
        "    accuracy = accuracy_score(y_test, y_pred)\n",
        "    cross_val_scores.append(accuracy)\n",
        "\n",
        "mean_accuracy = np.mean(cross_val_scores)\n",
        "print(\"Mean Accuracy: \",mean_accuracy)"
      ],
      "metadata": {
        "colab": {
          "base_uri": "https://localhost:8080/"
        },
        "id": "9IfAUQSC5XIn",
        "outputId": "3ccda245-5ae6-4d1c-962c-45fe057c7000"
      },
      "execution_count": 198,
      "outputs": [
        {
          "output_type": "stream",
          "name": "stdout",
          "text": [
            "Mean Accuracy:  0.8962962962962961\n"
          ]
        }
      ]
    },
    {
      "cell_type": "markdown",
      "source": [
        "K-Nearest Neighbors (KNN):"
      ],
      "metadata": {
        "id": "VpkqnG6u5emv"
      }
    },
    {
      "cell_type": "code",
      "source": [
        "from sklearn.neighbors import KNeighborsClassifier"
      ],
      "metadata": {
        "id": "105g9A_J5iJB"
      },
      "execution_count": 176,
      "outputs": []
    },
    {
      "cell_type": "code",
      "source": [
        "classifier = KNeighborsClassifier(n_neighbors=3)\n",
        "\n",
        "classifier.fit(X_train_random_sample, y_train_random_sample)\n",
        "y_pred = classifier.predict(X_test_random_sample)\n",
        "\n",
        "\n",
        "print(accuracy_score(y_test_random_sample, y_pred))"
      ],
      "metadata": {
        "colab": {
          "base_uri": "https://localhost:8080/"
        },
        "id": "rvZe0XUB5mbP",
        "outputId": "f2bdee8a-7a6b-4772-ba3c-934a5731b7b8"
      },
      "execution_count": 177,
      "outputs": [
        {
          "output_type": "stream",
          "name": "stdout",
          "text": [
            "0.7058823529411765\n"
          ]
        }
      ]
    },
    {
      "cell_type": "code",
      "source": [
        "classifier = KNeighborsClassifier(n_neighbors=3)\n",
        "classifier.fit(X_train_systematic_sample, y_train_systematic_sample)\n",
        "y_pred = classifier.predict(X_test_systematic_sample)\n",
        "\n",
        "\n",
        "print(accuracy_score(y_test_systematic_sample, y_pred))"
      ],
      "metadata": {
        "colab": {
          "base_uri": "https://localhost:8080/"
        },
        "id": "wcv-ATKU5xT2",
        "outputId": "f5cf4b4b-7144-4be1-92e8-7f5867b21936"
      },
      "execution_count": 178,
      "outputs": [
        {
          "output_type": "stream",
          "name": "stdout",
          "text": [
            "0.7402597402597403\n"
          ]
        }
      ]
    },
    {
      "cell_type": "code",
      "source": [
        "classifier = KNeighborsClassifier(n_neighbors=3)\n",
        "classifier.fit(X_train_stratified_sample, y_train_stratified_sample)\n",
        "y_pred = classifier.predict(X_test_stratified_sample)\n",
        "\n",
        "\n",
        "print(accuracy_score(y_test_stratified_sample, y_pred))"
      ],
      "metadata": {
        "colab": {
          "base_uri": "https://localhost:8080/"
        },
        "id": "w-dJKP5l52Kk",
        "outputId": "aaa3ef46-fafb-403c-f666-e5ea9c240fe1"
      },
      "execution_count": 183,
      "outputs": [
        {
          "output_type": "stream",
          "name": "stdout",
          "text": [
            "0.9705882352941176\n"
          ]
        }
      ]
    },
    {
      "cell_type": "code",
      "source": [
        "classifier = KNeighborsClassifier(n_neighbors=3)\n",
        "classifier.fit(X_train_bootstrap_sample, y_train_bootstrap_sample)\n",
        "y_pred = classifier.predict(X_test_bootstrap_sample)\n",
        "\n",
        "\n",
        "print(accuracy_score(y_test_bootstrap_sample, y_pred))"
      ],
      "metadata": {
        "colab": {
          "base_uri": "https://localhost:8080/"
        },
        "id": "KhIvfXl458WH",
        "outputId": "16887966-d582-425c-c8da-86d0e054aa75"
      },
      "execution_count": 186,
      "outputs": [
        {
          "output_type": "stream",
          "name": "stdout",
          "text": [
            "0.8821989528795812\n"
          ]
        }
      ]
    },
    {
      "cell_type": "code",
      "source": [
        "from sklearn.model_selection import StratifiedKFold\n",
        "stratified_kfold = StratifiedKFold(n_splits=5, shuffle=True, random_state=42)\n",
        "\n",
        "cross_val_scores = []\n",
        "\n",
        "for train_index, test_index in stratified_kfold.split(X_random_sample, y_random_sample):\n",
        "    X_train, X_test = X_random_sample.iloc[train_index], X_random_sample.iloc[test_index]\n",
        "    y_train, y_test = y_random_sample.iloc[train_index], y_random_sample.iloc[test_index]\n",
        "\n",
        "    classifier = KNeighborsClassifier(n_neighbors=3)\n",
        "    classifier.fit(X_train, y_train)\n",
        "\n",
        "\n",
        "    y_pred = classifier.predict(X_test)\n",
        "\n",
        "\n",
        "    accuracy = accuracy_score(y_test, y_pred)\n",
        "    cross_val_scores.append(accuracy)\n",
        "\n",
        "mean_accuracy = np.mean(cross_val_scores)\n",
        "print(\"Mean Accuracy: \",mean_accuracy)"
      ],
      "metadata": {
        "colab": {
          "base_uri": "https://localhost:8080/"
        },
        "id": "rwcPhWAI6JIE",
        "outputId": "76c621f1-466e-44c4-95ef-e9e13020af3f"
      },
      "execution_count": 200,
      "outputs": [
        {
          "output_type": "stream",
          "name": "stdout",
          "text": [
            "Mean Accuracy:  0.7666666666666667\n"
          ]
        }
      ]
    },
    {
      "cell_type": "markdown",
      "source": [
        "NAIVE BAYES"
      ],
      "metadata": {
        "id": "UtXOWYOr6bqB"
      }
    },
    {
      "cell_type": "code",
      "source": [
        "from sklearn.naive_bayes import GaussianNB"
      ],
      "metadata": {
        "id": "HIulm3He6Vi5"
      },
      "execution_count": 187,
      "outputs": []
    },
    {
      "cell_type": "code",
      "source": [
        "classifier = GaussianNB()\n",
        "\n",
        "classifier.fit(X_train_random_sample, y_train_random_sample)\n",
        "y_pred = classifier.predict(X_test_random_sample)\n",
        "\n",
        "\n",
        "print(accuracy_score(y_test_random_sample, y_pred))"
      ],
      "metadata": {
        "colab": {
          "base_uri": "https://localhost:8080/"
        },
        "id": "ZfTgbrZk6gPQ",
        "outputId": "8f993a93-6206-44fb-941a-703b3c9d1079"
      },
      "execution_count": 188,
      "outputs": [
        {
          "output_type": "stream",
          "name": "stdout",
          "text": [
            "0.7941176470588235\n"
          ]
        }
      ]
    },
    {
      "cell_type": "code",
      "source": [
        "classifier = GaussianNB()\n",
        "classifier.fit(X_train_systematic_sample, y_train_systematic_sample)\n",
        "y_pred = classifier.predict(X_test_systematic_sample)\n",
        "\n",
        "\n",
        "print(accuracy_score(y_test_systematic_sample, y_pred))"
      ],
      "metadata": {
        "colab": {
          "base_uri": "https://localhost:8080/"
        },
        "id": "NFCg-zql6ppm",
        "outputId": "b4ee7278-0c61-45a5-b1f4-0b1eaad8888c"
      },
      "execution_count": 189,
      "outputs": [
        {
          "output_type": "stream",
          "name": "stdout",
          "text": [
            "0.7532467532467533\n"
          ]
        }
      ]
    },
    {
      "cell_type": "code",
      "source": [
        "classifier = GaussianNB()\n",
        "classifier.fit(X_train_stratified_sample, y_train_stratified_sample)\n",
        "y_pred = classifier.predict(X_test_stratified_sample)\n",
        "\n",
        "\n",
        "print(accuracy_score(y_test_stratified_sample, y_pred))"
      ],
      "metadata": {
        "colab": {
          "base_uri": "https://localhost:8080/"
        },
        "id": "nh83mB1O6udq",
        "outputId": "ba18d990-c89b-49ce-b3ec-b00d18115a50"
      },
      "execution_count": 190,
      "outputs": [
        {
          "output_type": "stream",
          "name": "stdout",
          "text": [
            "0.9705882352941176\n"
          ]
        }
      ]
    },
    {
      "cell_type": "code",
      "source": [
        "classifier = GaussianNB()\n",
        "classifier.fit(X_train_bootstrap_sample, y_train_bootstrap_sample)\n",
        "y_pred = classifier.predict(X_test_bootstrap_sample)\n",
        "\n",
        "\n",
        "print(accuracy_score(y_test_bootstrap_sample, y_pred))"
      ],
      "metadata": {
        "colab": {
          "base_uri": "https://localhost:8080/"
        },
        "id": "vrPejXOK60ek",
        "outputId": "4547b28a-c46e-4c9d-a36f-7144e7b7c6b7"
      },
      "execution_count": 191,
      "outputs": [
        {
          "output_type": "stream",
          "name": "stdout",
          "text": [
            "0.8691099476439791\n"
          ]
        }
      ]
    },
    {
      "cell_type": "code",
      "source": [
        "from sklearn.model_selection import StratifiedKFold\n",
        "stratified_kfold = StratifiedKFold(n_splits=5, shuffle=True, random_state=42)\n",
        "\n",
        "cross_val_scores = []\n",
        "\n",
        "for train_index, test_index in stratified_kfold.split(X_random_sample, y_random_sample):\n",
        "    X_train, X_test = X_random_sample.iloc[train_index], X_random_sample.iloc[test_index]\n",
        "    y_train, y_test = y_random_sample.iloc[train_index], y_random_sample.iloc[test_index]\n",
        "\n",
        "    classifier = GaussianNB()\n",
        "    classifier.fit(X_train, y_train)\n",
        "\n",
        "\n",
        "    y_pred = classifier.predict(X_test)\n",
        "\n",
        "\n",
        "    accuracy = accuracy_score(y_test, y_pred)\n",
        "    cross_val_scores.append(accuracy)\n",
        "\n",
        "mean_accuracy = np.mean(cross_val_scores)\n",
        "print(\"Mean Accuracy: \",mean_accuracy)"
      ],
      "metadata": {
        "colab": {
          "base_uri": "https://localhost:8080/"
        },
        "id": "0aGh9_Jt66er",
        "outputId": "53d5a302-82dc-4e32-de3e-ae5d7652a673"
      },
      "execution_count": 201,
      "outputs": [
        {
          "output_type": "stream",
          "name": "stdout",
          "text": [
            "Mean Accuracy:  0.8481481481481481\n"
          ]
        }
      ]
    }
  ]
}